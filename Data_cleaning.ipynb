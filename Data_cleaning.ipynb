{
 "cells": [
  {
   "cell_type": "code",
   "execution_count": 147,
   "id": "73ffc64c",
   "metadata": {},
   "outputs": [
    {
     "data": {
      "text/html": [
       "<div>\n",
       "<style scoped>\n",
       "    .dataframe tbody tr th:only-of-type {\n",
       "        vertical-align: middle;\n",
       "    }\n",
       "\n",
       "    .dataframe tbody tr th {\n",
       "        vertical-align: top;\n",
       "    }\n",
       "\n",
       "    .dataframe thead th {\n",
       "        text-align: right;\n",
       "    }\n",
       "</style>\n",
       "<table border=\"1\" class=\"dataframe\">\n",
       "  <thead>\n",
       "    <tr style=\"text-align: right;\">\n",
       "      <th></th>\n",
       "      <th>Unnamed: 0</th>\n",
       "      <th>Brand</th>\n",
       "      <th>Current Price</th>\n",
       "      <th>Original Price</th>\n",
       "      <th>Discount Percentage</th>\n",
       "      <th>Rating</th>\n",
       "      <th>Number OF Ratings</th>\n",
       "      <th>Model Name</th>\n",
       "      <th>Dial Shape</th>\n",
       "      <th>Strap Color</th>\n",
       "      <th>Strap Material</th>\n",
       "      <th>Touchscreen</th>\n",
       "      <th>Battery Life (Days)</th>\n",
       "      <th>Bluetooth</th>\n",
       "      <th>Display Size</th>\n",
       "      <th>Weight</th>\n",
       "    </tr>\n",
       "  </thead>\n",
       "  <tbody>\n",
       "    <tr>\n",
       "      <th>0</th>\n",
       "      <td>0</td>\n",
       "      <td>noise</td>\n",
       "      <td>82990.0</td>\n",
       "      <td>89900.0</td>\n",
       "      <td>7.686318</td>\n",
       "      <td>4.0</td>\n",
       "      <td>65.0</td>\n",
       "      <td>Wrb-sw-colorfitpro4alpha-std-rgld_pnk</td>\n",
       "      <td>NaN</td>\n",
       "      <td>NaN</td>\n",
       "      <td>NaN</td>\n",
       "      <td>NaN</td>\n",
       "      <td>8.0</td>\n",
       "      <td>Yes</td>\n",
       "      <td>NaN</td>\n",
       "      <td>35 - 50 g</td>\n",
       "    </tr>\n",
       "    <tr>\n",
       "      <th>1</th>\n",
       "      <td>1</td>\n",
       "      <td>fire-boltt</td>\n",
       "      <td>3799.0</td>\n",
       "      <td>16999.0</td>\n",
       "      <td>77.651627</td>\n",
       "      <td>4.3</td>\n",
       "      <td>20788.0</td>\n",
       "      <td>BSW046</td>\n",
       "      <td>NaN</td>\n",
       "      <td>NaN</td>\n",
       "      <td>Silicon</td>\n",
       "      <td>Yes</td>\n",
       "      <td>3.5</td>\n",
       "      <td>Yes</td>\n",
       "      <td>1.8 inches</td>\n",
       "      <td>50 - 75 g</td>\n",
       "    </tr>\n",
       "    <tr>\n",
       "      <th>2</th>\n",
       "      <td>2</td>\n",
       "      <td>boat</td>\n",
       "      <td>1999.0</td>\n",
       "      <td>7990.0</td>\n",
       "      <td>74.981227</td>\n",
       "      <td>3.8</td>\n",
       "      <td>21724.0</td>\n",
       "      <td>Wave Call</td>\n",
       "      <td>NaN</td>\n",
       "      <td>NaN</td>\n",
       "      <td>Silicon</td>\n",
       "      <td>Yes</td>\n",
       "      <td>8.0</td>\n",
       "      <td>Yes</td>\n",
       "      <td>1.7 inches</td>\n",
       "      <td>35 - 50 g</td>\n",
       "    </tr>\n",
       "    <tr>\n",
       "      <th>3</th>\n",
       "      <td>3</td>\n",
       "      <td>fire-boltt</td>\n",
       "      <td>1799.0</td>\n",
       "      <td>19999.0</td>\n",
       "      <td>91.004550</td>\n",
       "      <td>4.3</td>\n",
       "      <td>13244.0</td>\n",
       "      <td>BSW053</td>\n",
       "      <td>NaN</td>\n",
       "      <td>NaN</td>\n",
       "      <td>Silicon</td>\n",
       "      <td>Yes</td>\n",
       "      <td>3.5</td>\n",
       "      <td>Yes</td>\n",
       "      <td>1.8 inches</td>\n",
       "      <td>75g +</td>\n",
       "    </tr>\n",
       "    <tr>\n",
       "      <th>4</th>\n",
       "      <td>4</td>\n",
       "      <td>noise</td>\n",
       "      <td>1599.0</td>\n",
       "      <td>4999.0</td>\n",
       "      <td>68.013603</td>\n",
       "      <td>4.1</td>\n",
       "      <td>13901.0</td>\n",
       "      <td>Wrb-sw-colorfitpulsegobuzz-std-blk_blk</td>\n",
       "      <td>NaN</td>\n",
       "      <td>NaN</td>\n",
       "      <td>Other</td>\n",
       "      <td>Yes</td>\n",
       "      <td>8.0</td>\n",
       "      <td>Yes</td>\n",
       "      <td>1.7 inches</td>\n",
       "      <td>35 - 50 g</td>\n",
       "    </tr>\n",
       "  </tbody>\n",
       "</table>\n",
       "</div>"
      ],
      "text/plain": [
       "   Unnamed: 0       Brand  Current Price  Original Price  Discount Percentage  \\\n",
       "0           0       noise        82990.0         89900.0             7.686318   \n",
       "1           1  fire-boltt         3799.0         16999.0            77.651627   \n",
       "2           2        boat         1999.0          7990.0            74.981227   \n",
       "3           3  fire-boltt         1799.0         19999.0            91.004550   \n",
       "4           4       noise         1599.0          4999.0            68.013603   \n",
       "\n",
       "   Rating  Number OF Ratings                              Model Name  \\\n",
       "0     4.0               65.0   Wrb-sw-colorfitpro4alpha-std-rgld_pnk   \n",
       "1     4.3            20788.0                                  BSW046   \n",
       "2     3.8            21724.0                               Wave Call   \n",
       "3     4.3            13244.0                                  BSW053   \n",
       "4     4.1            13901.0  Wrb-sw-colorfitpulsegobuzz-std-blk_blk   \n",
       "\n",
       "  Dial Shape Strap Color Strap Material Touchscreen  Battery Life (Days)  \\\n",
       "0        NaN         NaN            NaN         NaN                  8.0   \n",
       "1        NaN         NaN        Silicon         Yes                  3.5   \n",
       "2        NaN         NaN        Silicon         Yes                  8.0   \n",
       "3        NaN         NaN        Silicon         Yes                  3.5   \n",
       "4        NaN         NaN          Other         Yes                  8.0   \n",
       "\n",
       "  Bluetooth Display Size     Weight  \n",
       "0       Yes          NaN  35 - 50 g  \n",
       "1       Yes   1.8 inches  50 - 75 g  \n",
       "2       Yes   1.7 inches  35 - 50 g  \n",
       "3       Yes   1.8 inches      75g +  \n",
       "4       Yes   1.7 inches  35 - 50 g  "
      ]
     },
     "execution_count": 147,
     "metadata": {},
     "output_type": "execute_result"
    }
   ],
   "source": [
    "import pandas as pd\n",
    "import numpy as np\n",
    "import seaborn as sns\n",
    "import matplotlib.pyplot as plt\n",
    "\n",
    "df = pd.read_csv(\"./data/smartwatches.csv\")\n",
    "df.head()\n"
   ]
  },
  {
   "cell_type": "markdown",
   "id": "85f963b1",
   "metadata": {},
   "source": [
    "Raw Data ➝ Handle missing values ➝ Remove outliers ➝ Analyze skew ➝ Fix skew (if needed) ➝ Feature scaling ➝ Model training\n"
   ]
  },
  {
   "cell_type": "code",
   "execution_count": 148,
   "id": "6bd84d5c",
   "metadata": {},
   "outputs": [
    {
     "data": {
      "text/html": [
       "<div>\n",
       "<style scoped>\n",
       "    .dataframe tbody tr th:only-of-type {\n",
       "        vertical-align: middle;\n",
       "    }\n",
       "\n",
       "    .dataframe tbody tr th {\n",
       "        vertical-align: top;\n",
       "    }\n",
       "\n",
       "    .dataframe thead th {\n",
       "        text-align: right;\n",
       "    }\n",
       "</style>\n",
       "<table border=\"1\" class=\"dataframe\">\n",
       "  <thead>\n",
       "    <tr style=\"text-align: right;\">\n",
       "      <th></th>\n",
       "      <th>Brand</th>\n",
       "      <th>Current Price</th>\n",
       "      <th>Original Price</th>\n",
       "      <th>Discount Percentage</th>\n",
       "      <th>Rating</th>\n",
       "      <th>Number OF Ratings</th>\n",
       "      <th>Model Name</th>\n",
       "      <th>Dial Shape</th>\n",
       "      <th>Strap Color</th>\n",
       "      <th>Strap Material</th>\n",
       "      <th>Touchscreen</th>\n",
       "      <th>Battery Life (Days)</th>\n",
       "      <th>Bluetooth</th>\n",
       "      <th>Display Size</th>\n",
       "      <th>Weight</th>\n",
       "    </tr>\n",
       "  </thead>\n",
       "  <tbody>\n",
       "    <tr>\n",
       "      <th>0</th>\n",
       "      <td>noise</td>\n",
       "      <td>82990.0</td>\n",
       "      <td>89900.0</td>\n",
       "      <td>7.686318</td>\n",
       "      <td>4.0</td>\n",
       "      <td>65.0</td>\n",
       "      <td>Wrb-sw-colorfitpro4alpha-std-rgld_pnk</td>\n",
       "      <td>NaN</td>\n",
       "      <td>NaN</td>\n",
       "      <td>NaN</td>\n",
       "      <td>NaN</td>\n",
       "      <td>8.0</td>\n",
       "      <td>Yes</td>\n",
       "      <td>NaN</td>\n",
       "      <td>35 - 50 g</td>\n",
       "    </tr>\n",
       "    <tr>\n",
       "      <th>1</th>\n",
       "      <td>fire-boltt</td>\n",
       "      <td>3799.0</td>\n",
       "      <td>16999.0</td>\n",
       "      <td>77.651627</td>\n",
       "      <td>4.3</td>\n",
       "      <td>20788.0</td>\n",
       "      <td>BSW046</td>\n",
       "      <td>NaN</td>\n",
       "      <td>NaN</td>\n",
       "      <td>Silicon</td>\n",
       "      <td>Yes</td>\n",
       "      <td>3.5</td>\n",
       "      <td>Yes</td>\n",
       "      <td>1.8 inches</td>\n",
       "      <td>50 - 75 g</td>\n",
       "    </tr>\n",
       "    <tr>\n",
       "      <th>2</th>\n",
       "      <td>boat</td>\n",
       "      <td>1999.0</td>\n",
       "      <td>7990.0</td>\n",
       "      <td>74.981227</td>\n",
       "      <td>3.8</td>\n",
       "      <td>21724.0</td>\n",
       "      <td>Wave Call</td>\n",
       "      <td>NaN</td>\n",
       "      <td>NaN</td>\n",
       "      <td>Silicon</td>\n",
       "      <td>Yes</td>\n",
       "      <td>8.0</td>\n",
       "      <td>Yes</td>\n",
       "      <td>1.7 inches</td>\n",
       "      <td>35 - 50 g</td>\n",
       "    </tr>\n",
       "    <tr>\n",
       "      <th>3</th>\n",
       "      <td>fire-boltt</td>\n",
       "      <td>1799.0</td>\n",
       "      <td>19999.0</td>\n",
       "      <td>91.004550</td>\n",
       "      <td>4.3</td>\n",
       "      <td>13244.0</td>\n",
       "      <td>BSW053</td>\n",
       "      <td>NaN</td>\n",
       "      <td>NaN</td>\n",
       "      <td>Silicon</td>\n",
       "      <td>Yes</td>\n",
       "      <td>3.5</td>\n",
       "      <td>Yes</td>\n",
       "      <td>1.8 inches</td>\n",
       "      <td>75g +</td>\n",
       "    </tr>\n",
       "    <tr>\n",
       "      <th>4</th>\n",
       "      <td>noise</td>\n",
       "      <td>1599.0</td>\n",
       "      <td>4999.0</td>\n",
       "      <td>68.013603</td>\n",
       "      <td>4.1</td>\n",
       "      <td>13901.0</td>\n",
       "      <td>Wrb-sw-colorfitpulsegobuzz-std-blk_blk</td>\n",
       "      <td>NaN</td>\n",
       "      <td>NaN</td>\n",
       "      <td>Other</td>\n",
       "      <td>Yes</td>\n",
       "      <td>8.0</td>\n",
       "      <td>Yes</td>\n",
       "      <td>1.7 inches</td>\n",
       "      <td>35 - 50 g</td>\n",
       "    </tr>\n",
       "  </tbody>\n",
       "</table>\n",
       "</div>"
      ],
      "text/plain": [
       "        Brand  Current Price  Original Price  Discount Percentage  Rating  \\\n",
       "0       noise        82990.0         89900.0             7.686318     4.0   \n",
       "1  fire-boltt         3799.0         16999.0            77.651627     4.3   \n",
       "2        boat         1999.0          7990.0            74.981227     3.8   \n",
       "3  fire-boltt         1799.0         19999.0            91.004550     4.3   \n",
       "4       noise         1599.0          4999.0            68.013603     4.1   \n",
       "\n",
       "   Number OF Ratings                              Model Name Dial Shape  \\\n",
       "0               65.0   Wrb-sw-colorfitpro4alpha-std-rgld_pnk        NaN   \n",
       "1            20788.0                                  BSW046        NaN   \n",
       "2            21724.0                               Wave Call        NaN   \n",
       "3            13244.0                                  BSW053        NaN   \n",
       "4            13901.0  Wrb-sw-colorfitpulsegobuzz-std-blk_blk        NaN   \n",
       "\n",
       "  Strap Color Strap Material Touchscreen  Battery Life (Days) Bluetooth  \\\n",
       "0         NaN            NaN         NaN                  8.0       Yes   \n",
       "1         NaN        Silicon         Yes                  3.5       Yes   \n",
       "2         NaN        Silicon         Yes                  8.0       Yes   \n",
       "3         NaN        Silicon         Yes                  3.5       Yes   \n",
       "4         NaN          Other         Yes                  8.0       Yes   \n",
       "\n",
       "  Display Size     Weight  \n",
       "0          NaN  35 - 50 g  \n",
       "1   1.8 inches  50 - 75 g  \n",
       "2   1.7 inches  35 - 50 g  \n",
       "3   1.8 inches      75g +  \n",
       "4   1.7 inches  35 - 50 g  "
      ]
     },
     "execution_count": 148,
     "metadata": {},
     "output_type": "execute_result"
    }
   ],
   "source": [
    "df.drop(columns=\"Unnamed: 0\", inplace=True)\n",
    "\n",
    "df.head()"
   ]
  },
  {
   "cell_type": "code",
   "execution_count": 149,
   "id": "416572d6",
   "metadata": {},
   "outputs": [],
   "source": [
    "df.drop_duplicates(inplace=True)"
   ]
  },
  {
   "cell_type": "code",
   "execution_count": 150,
   "id": "fc95e28a",
   "metadata": {},
   "outputs": [
    {
     "data": {
      "text/plain": [
       "(440, 15)"
      ]
     },
     "execution_count": 150,
     "metadata": {},
     "output_type": "execute_result"
    }
   ],
   "source": [
    "df.shape"
   ]
  },
  {
   "cell_type": "code",
   "execution_count": 151,
   "id": "91eb721e",
   "metadata": {},
   "outputs": [
    {
     "data": {
      "text/plain": [
       "['Current Price',\n",
       " 'Original Price',\n",
       " 'Discount Percentage',\n",
       " 'Rating',\n",
       " 'Number OF Ratings',\n",
       " 'Battery Life (Days)']"
      ]
     },
     "execution_count": 151,
     "metadata": {},
     "output_type": "execute_result"
    }
   ],
   "source": [
    "numerical = [feature for feature in df.columns if df[feature].dtype != \"object\"]\n",
    "numerical"
   ]
  },
  {
   "cell_type": "code",
   "execution_count": 152,
   "id": "058448b4",
   "metadata": {},
   "outputs": [
    {
     "data": {
      "text/plain": [
       "['Brand',\n",
       " 'Model Name',\n",
       " 'Dial Shape',\n",
       " 'Strap Color',\n",
       " 'Strap Material',\n",
       " 'Touchscreen',\n",
       " 'Bluetooth',\n",
       " 'Display Size',\n",
       " 'Weight']"
      ]
     },
     "execution_count": 152,
     "metadata": {},
     "output_type": "execute_result"
    }
   ],
   "source": [
    "categorical = [feature for feature in df.columns if df[feature].dtype == \"object\"]\n",
    "categorical"
   ]
  },
  {
   "cell_type": "code",
   "execution_count": 153,
   "id": "3540c497",
   "metadata": {},
   "outputs": [
    {
     "data": {
      "text/plain": [
       "Current Price          10\n",
       "Original Price         73\n",
       "Discount Percentage    73\n",
       "Rating                  6\n",
       "Number OF Ratings      59\n",
       "Battery Life (Days)    32\n",
       "dtype: int64"
      ]
     },
     "execution_count": 153,
     "metadata": {},
     "output_type": "execute_result"
    }
   ],
   "source": [
    "df[numerical].isnull().sum()"
   ]
  },
  {
   "cell_type": "code",
   "execution_count": 154,
   "id": "716e2327",
   "metadata": {},
   "outputs": [
    {
     "data": {
      "text/plain": [
       "np.int64(10)"
      ]
     },
     "execution_count": 154,
     "metadata": {},
     "output_type": "execute_result"
    }
   ],
   "source": [
    "df[\"Current Price\"].isnull().sum()"
   ]
  },
  {
   "cell_type": "code",
   "execution_count": 155,
   "id": "71e755ad",
   "metadata": {},
   "outputs": [
    {
     "data": {
      "text/plain": [
       "np.float64(3999.0)"
      ]
     },
     "execution_count": 155,
     "metadata": {},
     "output_type": "execute_result"
    }
   ],
   "source": [
    "df[\"Current Price\"].median()"
   ]
  },
  {
   "cell_type": "code",
   "execution_count": 156,
   "id": "c50f34e0",
   "metadata": {},
   "outputs": [
    {
     "name": "stderr",
     "output_type": "stream",
     "text": [
      "C:\\Users\\DELL\\AppData\\Local\\Temp\\ipykernel_17536\\799000330.py:1: FutureWarning: A value is trying to be set on a copy of a DataFrame or Series through chained assignment using an inplace method.\n",
      "The behavior will change in pandas 3.0. This inplace method will never work because the intermediate object on which we are setting values always behaves as a copy.\n",
      "\n",
      "For example, when doing 'df[col].method(value, inplace=True)', try using 'df.method({col: value}, inplace=True)' or df[col] = df[col].method(value) instead, to perform the operation inplace on the original object.\n",
      "\n",
      "\n",
      "  df[\"Current Price\"].fillna( df[\"Current Price\"].median(), inplace=True)\n"
     ]
    }
   ],
   "source": [
    "df[\"Current Price\"].fillna( df[\"Current Price\"].median(), inplace=True)"
   ]
  },
  {
   "cell_type": "code",
   "execution_count": 157,
   "id": "447296f1",
   "metadata": {},
   "outputs": [
    {
     "data": {
      "text/plain": [
       "np.int64(0)"
      ]
     },
     "execution_count": 157,
     "metadata": {},
     "output_type": "execute_result"
    }
   ],
   "source": [
    "df[\"Current Price\"].isnull().sum()"
   ]
  },
  {
   "cell_type": "code",
   "execution_count": 158,
   "id": "2eefead8",
   "metadata": {},
   "outputs": [
    {
     "data": {
      "text/plain": [
       "Current Price\n",
       "1999.0    28\n",
       "3999.0    28\n",
       "1799.0    27\n",
       "1499.0    15\n",
       "2999.0    15\n",
       "          ..\n",
       "5998.0     1\n",
       "2899.0     1\n",
       "3700.0     1\n",
       "3200.0     1\n",
       "3000.0     1\n",
       "Name: count, Length: 164, dtype: int64"
      ]
     },
     "execution_count": 158,
     "metadata": {},
     "output_type": "execute_result"
    }
   ],
   "source": [
    "df[\"Current Price\"].value_counts()"
   ]
  },
  {
   "cell_type": "code",
   "execution_count": 159,
   "id": "0319ebeb",
   "metadata": {},
   "outputs": [],
   "source": [
    "df[\"Original Price\"] = df[\"Original Price\"].fillna(df[\"Original Price\"].median())\n"
   ]
  },
  {
   "cell_type": "code",
   "execution_count": 160,
   "id": "a15ed128",
   "metadata": {},
   "outputs": [
    {
     "data": {
      "text/plain": [
       "np.int64(0)"
      ]
     },
     "execution_count": 160,
     "metadata": {},
     "output_type": "execute_result"
    }
   ],
   "source": [
    "df[\"Original Price\"].isnull().sum()"
   ]
  },
  {
   "cell_type": "code",
   "execution_count": 161,
   "id": "91d242ad",
   "metadata": {},
   "outputs": [
    {
     "data": {
      "text/plain": [
       "0     7.686318\n",
       "1    77.651627\n",
       "2    74.981227\n",
       "3    91.004550\n",
       "4    68.013603\n",
       "Name: Discount Percentage, dtype: float64"
      ]
     },
     "execution_count": 161,
     "metadata": {},
     "output_type": "execute_result"
    }
   ],
   "source": [
    "df[\"Discount Percentage\"].head()"
   ]
  },
  {
   "cell_type": "code",
   "execution_count": 162,
   "id": "d10f2d45",
   "metadata": {},
   "outputs": [],
   "source": [
    "df[\"Discount Percentage\"] = df[\"Discount Percentage\"].fillna(0.0)"
   ]
  },
  {
   "cell_type": "code",
   "execution_count": 163,
   "id": "aca88a47",
   "metadata": {},
   "outputs": [
    {
     "data": {
      "text/plain": [
       "0     6910.000000\n",
       "1    13200.000001\n",
       "2     5991.000000\n",
       "3    18200.000000\n",
       "4     3400.000000\n",
       "Name: Discount Price, dtype: float64"
      ]
     },
     "execution_count": 163,
     "metadata": {},
     "output_type": "execute_result"
    }
   ],
   "source": [
    "df[\"Discount Price\"] = df[\"Original Price\"] * (df[\"Discount Percentage\"]) /100 \n",
    "df[\"Discount Price\"].head()"
   ]
  },
  {
   "cell_type": "code",
   "execution_count": 164,
   "id": "f3e0144b",
   "metadata": {},
   "outputs": [
    {
     "data": {
      "text/plain": [
       "Discount Price\n",
       "0.000000       73\n",
       "4000.000000    12\n",
       "3200.000000     7\n",
       "2200.000000     6\n",
       "3000.000000     5\n",
       "               ..\n",
       "3400.000000     1\n",
       "8999.999999     1\n",
       "6299.000000     1\n",
       "4799.000000     1\n",
       "2400.000000     1\n",
       "Name: count, Length: 273, dtype: int64"
      ]
     },
     "execution_count": 164,
     "metadata": {},
     "output_type": "execute_result"
    }
   ],
   "source": [
    "df[\"Discount Price\"].value_counts()"
   ]
  },
  {
   "cell_type": "code",
   "execution_count": 165,
   "id": "c32070fd",
   "metadata": {},
   "outputs": [
    {
     "data": {
      "text/plain": [
       "np.int64(0)"
      ]
     },
     "execution_count": 165,
     "metadata": {},
     "output_type": "execute_result"
    }
   ],
   "source": [
    "df[\"Discount Price\"].isnull().sum()"
   ]
  },
  {
   "cell_type": "code",
   "execution_count": 166,
   "id": "fd5fd7ef",
   "metadata": {},
   "outputs": [
    {
     "data": {
      "text/plain": [
       "np.int64(73)"
      ]
     },
     "execution_count": 166,
     "metadata": {},
     "output_type": "execute_result"
    }
   ],
   "source": [
    "df[\"Discount Price\"] = df[\"Discount Price\"].apply( lambda x:  np.nan if x == 0.000000 else x)\n",
    "\n",
    "df[\"Discount Price\"].isnull().sum()"
   ]
  },
  {
   "cell_type": "code",
   "execution_count": 167,
   "id": "2df749b3",
   "metadata": {},
   "outputs": [
    {
     "data": {
      "text/plain": [
       "np.float64(1.6895763217716477)"
      ]
     },
     "execution_count": 167,
     "metadata": {},
     "output_type": "execute_result"
    }
   ],
   "source": [
    "df[\"Discount Price\"].skew()"
   ]
  },
  {
   "cell_type": "code",
   "execution_count": 168,
   "id": "bcf71676",
   "metadata": {},
   "outputs": [],
   "source": [
    "df[\"Discount Price\"] = df[\"Discount Price\"].fillna(df[\"Discount Price\"].median())\n"
   ]
  },
  {
   "cell_type": "code",
   "execution_count": 169,
   "id": "3f9d378f",
   "metadata": {},
   "outputs": [
    {
     "data": {
      "text/plain": [
       "np.int64(0)"
      ]
     },
     "execution_count": 169,
     "metadata": {},
     "output_type": "execute_result"
    }
   ],
   "source": [
    "df[\"Discount Price\"].isnull().sum()"
   ]
  },
  {
   "cell_type": "code",
   "execution_count": 170,
   "id": "96c43f99",
   "metadata": {},
   "outputs": [
    {
     "data": {
      "text/plain": [
       "Discount Price\n",
       "4001.000000     74\n",
       "4000.000000     12\n",
       "3200.000000      7\n",
       "2200.000000      6\n",
       "6000.000000      5\n",
       "                ..\n",
       "9000.000000      1\n",
       "6910.000000      1\n",
       "13200.000001     1\n",
       "18200.000000     1\n",
       "4500.000000      1\n",
       "Name: count, Length: 272, dtype: int64"
      ]
     },
     "execution_count": 170,
     "metadata": {},
     "output_type": "execute_result"
    }
   ],
   "source": [
    "df[\"Discount Price\"].value_counts()"
   ]
  },
  {
   "cell_type": "code",
   "execution_count": 171,
   "id": "d01d09f9",
   "metadata": {},
   "outputs": [
    {
     "data": {
      "text/html": [
       "<div>\n",
       "<style scoped>\n",
       "    .dataframe tbody tr th:only-of-type {\n",
       "        vertical-align: middle;\n",
       "    }\n",
       "\n",
       "    .dataframe tbody tr th {\n",
       "        vertical-align: top;\n",
       "    }\n",
       "\n",
       "    .dataframe thead th {\n",
       "        text-align: right;\n",
       "    }\n",
       "</style>\n",
       "<table border=\"1\" class=\"dataframe\">\n",
       "  <thead>\n",
       "    <tr style=\"text-align: right;\">\n",
       "      <th></th>\n",
       "      <th>Current Price</th>\n",
       "      <th>Original Price</th>\n",
       "      <th>Discount Percentage</th>\n",
       "      <th>Rating</th>\n",
       "      <th>Number OF Ratings</th>\n",
       "      <th>Battery Life (Days)</th>\n",
       "    </tr>\n",
       "  </thead>\n",
       "  <tbody>\n",
       "    <tr>\n",
       "      <th>0</th>\n",
       "      <td>82990.0</td>\n",
       "      <td>89900.0</td>\n",
       "      <td>7.686318</td>\n",
       "      <td>4.0</td>\n",
       "      <td>65.0</td>\n",
       "      <td>8.0</td>\n",
       "    </tr>\n",
       "    <tr>\n",
       "      <th>1</th>\n",
       "      <td>3799.0</td>\n",
       "      <td>16999.0</td>\n",
       "      <td>77.651627</td>\n",
       "      <td>4.3</td>\n",
       "      <td>20788.0</td>\n",
       "      <td>3.5</td>\n",
       "    </tr>\n",
       "    <tr>\n",
       "      <th>2</th>\n",
       "      <td>1999.0</td>\n",
       "      <td>7990.0</td>\n",
       "      <td>74.981227</td>\n",
       "      <td>3.8</td>\n",
       "      <td>21724.0</td>\n",
       "      <td>8.0</td>\n",
       "    </tr>\n",
       "    <tr>\n",
       "      <th>3</th>\n",
       "      <td>1799.0</td>\n",
       "      <td>19999.0</td>\n",
       "      <td>91.004550</td>\n",
       "      <td>4.3</td>\n",
       "      <td>13244.0</td>\n",
       "      <td>3.5</td>\n",
       "    </tr>\n",
       "    <tr>\n",
       "      <th>4</th>\n",
       "      <td>1599.0</td>\n",
       "      <td>4999.0</td>\n",
       "      <td>68.013603</td>\n",
       "      <td>4.1</td>\n",
       "      <td>13901.0</td>\n",
       "      <td>8.0</td>\n",
       "    </tr>\n",
       "  </tbody>\n",
       "</table>\n",
       "</div>"
      ],
      "text/plain": [
       "   Current Price  Original Price  Discount Percentage  Rating  \\\n",
       "0        82990.0         89900.0             7.686318     4.0   \n",
       "1         3799.0         16999.0            77.651627     4.3   \n",
       "2         1999.0          7990.0            74.981227     3.8   \n",
       "3         1799.0         19999.0            91.004550     4.3   \n",
       "4         1599.0          4999.0            68.013603     4.1   \n",
       "\n",
       "   Number OF Ratings  Battery Life (Days)  \n",
       "0               65.0                  8.0  \n",
       "1            20788.0                  3.5  \n",
       "2            21724.0                  8.0  \n",
       "3            13244.0                  3.5  \n",
       "4            13901.0                  8.0  "
      ]
     },
     "execution_count": 171,
     "metadata": {},
     "output_type": "execute_result"
    }
   ],
   "source": [
    "df[numerical].head()"
   ]
  },
  {
   "cell_type": "code",
   "execution_count": 172,
   "id": "0be35abe",
   "metadata": {},
   "outputs": [
    {
     "data": {
      "text/plain": [
       "Current Price           0\n",
       "Original Price          0\n",
       "Discount Percentage     0\n",
       "Rating                  6\n",
       "Number OF Ratings      59\n",
       "Battery Life (Days)    32\n",
       "dtype: int64"
      ]
     },
     "execution_count": 172,
     "metadata": {},
     "output_type": "execute_result"
    }
   ],
   "source": [
    "df[numerical].isnull().sum()"
   ]
  },
  {
   "cell_type": "code",
   "execution_count": 173,
   "id": "06c54701",
   "metadata": {},
   "outputs": [
    {
     "data": {
      "text/plain": [
       "np.float64(-1.5678036397199386)"
      ]
     },
     "execution_count": 173,
     "metadata": {},
     "output_type": "execute_result"
    }
   ],
   "source": [
    "df[\"Rating\"].skew()"
   ]
  },
  {
   "cell_type": "code",
   "execution_count": 174,
   "id": "ebd58193",
   "metadata": {},
   "outputs": [],
   "source": [
    "df[\"Rating\"] = df[\"Rating\"].fillna(df[\"Rating\"].median())"
   ]
  },
  {
   "cell_type": "code",
   "execution_count": 175,
   "id": "c807b781",
   "metadata": {},
   "outputs": [
    {
     "data": {
      "text/plain": [
       "np.int64(0)"
      ]
     },
     "execution_count": 175,
     "metadata": {},
     "output_type": "execute_result"
    }
   ],
   "source": [
    "df[\"Rating\"].isnull().sum()"
   ]
  },
  {
   "cell_type": "code",
   "execution_count": 176,
   "id": "2b76856c",
   "metadata": {},
   "outputs": [
    {
     "data": {
      "text/plain": [
       "dtype('float64')"
      ]
     },
     "execution_count": 176,
     "metadata": {},
     "output_type": "execute_result"
    }
   ],
   "source": [
    "df[\"Number OF Ratings\"] = df[\"Number OF Ratings\"].fillna(df[\"Number OF Ratings\"].median())\n",
    "df[\"Number OF Ratings\"].dtype"
   ]
  },
  {
   "cell_type": "code",
   "execution_count": 177,
   "id": "74ebabc1",
   "metadata": {},
   "outputs": [
    {
     "data": {
      "text/plain": [
       "Battery Life (Days)\n",
       "22.00    176\n",
       "8.00      97\n",
       "3.50      72\n",
       "17.50     42\n",
       "12.50     12\n",
       "3.60       6\n",
       "0.75       3\n",
       "Name: count, dtype: int64"
      ]
     },
     "execution_count": 177,
     "metadata": {},
     "output_type": "execute_result"
    }
   ],
   "source": [
    "df[\"Battery Life (Days)\"].value_counts()"
   ]
  },
  {
   "cell_type": "code",
   "execution_count": 178,
   "id": "b109e48a",
   "metadata": {},
   "outputs": [
    {
     "data": {
      "text/plain": [
       "np.float64(-0.2317114477910843)"
      ]
     },
     "execution_count": 178,
     "metadata": {},
     "output_type": "execute_result"
    }
   ],
   "source": [
    "df[\"Battery Life (Days)\"].skew()"
   ]
  },
  {
   "cell_type": "code",
   "execution_count": 179,
   "id": "f23f32bd",
   "metadata": {},
   "outputs": [
    {
     "data": {
      "text/plain": [
       "np.int64(0)"
      ]
     },
     "execution_count": 179,
     "metadata": {},
     "output_type": "execute_result"
    }
   ],
   "source": [
    "df[\"Battery Life (Days)\"] = df[\"Battery Life (Days)\"].fillna(df[\"Battery Life (Days)\"].mean())\n",
    "df[\"Battery Life (Days)\"].isnull().sum()"
   ]
  },
  {
   "cell_type": "code",
   "execution_count": 180,
   "id": "783068b5",
   "metadata": {},
   "outputs": [
    {
     "name": "stdout",
     "output_type": "stream",
     "text": [
      "<class 'pandas.core.frame.DataFrame'>\n",
      "Index: 440 entries, 0 to 449\n",
      "Data columns (total 6 columns):\n",
      " #   Column               Non-Null Count  Dtype  \n",
      "---  ------               --------------  -----  \n",
      " 0   Current Price        440 non-null    float64\n",
      " 1   Original Price       440 non-null    float64\n",
      " 2   Discount Percentage  440 non-null    float64\n",
      " 3   Rating               440 non-null    float64\n",
      " 4   Number OF Ratings    440 non-null    float64\n",
      " 5   Battery Life (Days)  440 non-null    float64\n",
      "dtypes: float64(6)\n",
      "memory usage: 24.1 KB\n"
     ]
    }
   ],
   "source": [
    "df[numerical].info()"
   ]
  },
  {
   "cell_type": "code",
   "execution_count": 181,
   "id": "d77b46b4",
   "metadata": {},
   "outputs": [
    {
     "data": {
      "text/plain": [
       "0         65.0\n",
       "1      20788.0\n",
       "2      21724.0\n",
       "3      13244.0\n",
       "4      13901.0\n",
       "        ...   \n",
       "445      830.0\n",
       "446      830.0\n",
       "447      830.0\n",
       "448      830.0\n",
       "449      830.0\n",
       "Name: Number OF Ratings, Length: 440, dtype: float64"
      ]
     },
     "execution_count": 181,
     "metadata": {},
     "output_type": "execute_result"
    }
   ],
   "source": [
    "df[\"Number OF Ratings\"].astype(\"float\")"
   ]
  },
  {
   "cell_type": "code",
   "execution_count": 182,
   "id": "17438da0",
   "metadata": {},
   "outputs": [
    {
     "data": {
      "text/html": [
       "<div>\n",
       "<style scoped>\n",
       "    .dataframe tbody tr th:only-of-type {\n",
       "        vertical-align: middle;\n",
       "    }\n",
       "\n",
       "    .dataframe tbody tr th {\n",
       "        vertical-align: top;\n",
       "    }\n",
       "\n",
       "    .dataframe thead th {\n",
       "        text-align: right;\n",
       "    }\n",
       "</style>\n",
       "<table border=\"1\" class=\"dataframe\">\n",
       "  <thead>\n",
       "    <tr style=\"text-align: right;\">\n",
       "      <th></th>\n",
       "      <th>Current Price</th>\n",
       "      <th>Original Price</th>\n",
       "      <th>Discount Percentage</th>\n",
       "      <th>Rating</th>\n",
       "      <th>Number OF Ratings</th>\n",
       "      <th>Battery Life (Days)</th>\n",
       "    </tr>\n",
       "  </thead>\n",
       "  <tbody>\n",
       "    <tr>\n",
       "      <th>count</th>\n",
       "      <td>440.000000</td>\n",
       "      <td>440.000000</td>\n",
       "      <td>440.000000</td>\n",
       "      <td>440.000000</td>\n",
       "      <td>440.000000</td>\n",
       "      <td>440.000000</td>\n",
       "    </tr>\n",
       "    <tr>\n",
       "      <th>mean</th>\n",
       "      <td>12794.250000</td>\n",
       "      <td>13648.854545</td>\n",
       "      <td>39.612120</td>\n",
       "      <td>4.033864</td>\n",
       "      <td>9981.279545</td>\n",
       "      <td>14.237377</td>\n",
       "    </tr>\n",
       "    <tr>\n",
       "      <th>std</th>\n",
       "      <td>17734.708001</td>\n",
       "      <td>14483.626960</td>\n",
       "      <td>28.146974</td>\n",
       "      <td>0.552290</td>\n",
       "      <td>38206.552996</td>\n",
       "      <td>7.453448</td>\n",
       "    </tr>\n",
       "    <tr>\n",
       "      <th>min</th>\n",
       "      <td>1199.000000</td>\n",
       "      <td>1669.000000</td>\n",
       "      <td>-79.688436</td>\n",
       "      <td>1.000000</td>\n",
       "      <td>1.000000</td>\n",
       "      <td>0.750000</td>\n",
       "    </tr>\n",
       "    <tr>\n",
       "      <th>25%</th>\n",
       "      <td>2299.000000</td>\n",
       "      <td>5999.000000</td>\n",
       "      <td>10.110964</td>\n",
       "      <td>3.900000</td>\n",
       "      <td>99.750000</td>\n",
       "      <td>8.000000</td>\n",
       "    </tr>\n",
       "    <tr>\n",
       "      <th>50%</th>\n",
       "      <td>3999.000000</td>\n",
       "      <td>7999.000000</td>\n",
       "      <td>45.004501</td>\n",
       "      <td>4.100000</td>\n",
       "      <td>830.000000</td>\n",
       "      <td>14.237377</td>\n",
       "    </tr>\n",
       "    <tr>\n",
       "      <th>75%</th>\n",
       "      <td>17121.750000</td>\n",
       "      <td>14991.250000</td>\n",
       "      <td>64.012803</td>\n",
       "      <td>4.300000</td>\n",
       "      <td>4723.750000</td>\n",
       "      <td>22.000000</td>\n",
       "    </tr>\n",
       "    <tr>\n",
       "      <th>max</th>\n",
       "      <td>139990.000000</td>\n",
       "      <td>96390.000000</td>\n",
       "      <td>91.004550</td>\n",
       "      <td>5.000000</td>\n",
       "      <td>619130.000000</td>\n",
       "      <td>22.000000</td>\n",
       "    </tr>\n",
       "  </tbody>\n",
       "</table>\n",
       "</div>"
      ],
      "text/plain": [
       "       Current Price  Original Price  Discount Percentage      Rating  \\\n",
       "count     440.000000      440.000000           440.000000  440.000000   \n",
       "mean    12794.250000    13648.854545            39.612120    4.033864   \n",
       "std     17734.708001    14483.626960            28.146974    0.552290   \n",
       "min      1199.000000     1669.000000           -79.688436    1.000000   \n",
       "25%      2299.000000     5999.000000            10.110964    3.900000   \n",
       "50%      3999.000000     7999.000000            45.004501    4.100000   \n",
       "75%     17121.750000    14991.250000            64.012803    4.300000   \n",
       "max    139990.000000    96390.000000            91.004550    5.000000   \n",
       "\n",
       "       Number OF Ratings  Battery Life (Days)  \n",
       "count         440.000000           440.000000  \n",
       "mean         9981.279545            14.237377  \n",
       "std         38206.552996             7.453448  \n",
       "min             1.000000             0.750000  \n",
       "25%            99.750000             8.000000  \n",
       "50%           830.000000            14.237377  \n",
       "75%          4723.750000            22.000000  \n",
       "max        619130.000000            22.000000  "
      ]
     },
     "execution_count": 182,
     "metadata": {},
     "output_type": "execute_result"
    }
   ],
   "source": [
    "df[numerical].describe()"
   ]
  },
  {
   "cell_type": "code",
   "execution_count": 183,
   "id": "ac7b5e14",
   "metadata": {},
   "outputs": [
    {
     "data": {
      "text/plain": [
       "np.float64(-0.42042568833944094)"
      ]
     },
     "execution_count": 183,
     "metadata": {},
     "output_type": "execute_result"
    }
   ],
   "source": [
    "df[\"Discount Percentage\"].skew()"
   ]
  },
  {
   "cell_type": "code",
   "execution_count": 184,
   "id": "6ecdd53d",
   "metadata": {},
   "outputs": [
    {
     "data": {
      "text/plain": [
       "{'whiskers': [<matplotlib.lines.Line2D at 0x1a7b3173b00>,\n",
       "  <matplotlib.lines.Line2D at 0x1a7b3171520>],\n",
       " 'caps': [<matplotlib.lines.Line2D at 0x1a7b3172840>,\n",
       "  <matplotlib.lines.Line2D at 0x1a7b3172de0>],\n",
       " 'boxes': [<matplotlib.lines.Line2D at 0x1a7b1420cb0>],\n",
       " 'medians': [<matplotlib.lines.Line2D at 0x1a7b3173c20>],\n",
       " 'fliers': [<matplotlib.lines.Line2D at 0x1a7b6809760>],\n",
       " 'means': []}"
      ]
     },
     "execution_count": 184,
     "metadata": {},
     "output_type": "execute_result"
    },
    {
     "data": {
      "image/png": "[encoded data removed]",
      "text/plain": [
       "<Figure size 640x480 with 1 Axes>"
      ]
     },
     "metadata": {},
     "output_type": "display_data"
    }
   ],
   "source": [
    "plt.boxplot(df[\"Discount Percentage\"])"
   ]
  },
  {
   "cell_type": "code",
   "execution_count": 185,
   "id": "523534b9",
   "metadata": {},
   "outputs": [
    {
     "data": {
      "text/plain": [
       "np.float64(1.963474740645439)"
      ]
     },
     "execution_count": 185,
     "metadata": {},
     "output_type": "execute_result"
    }
   ],
   "source": [
    "df[\"Discount Price\"].skew()"
   ]
  },
  {
   "cell_type": "code",
   "execution_count": 186,
   "id": "d70df8b1",
   "metadata": {},
   "outputs": [
    {
     "data": {
      "text/html": [
       "<div>\n",
       "<style scoped>\n",
       "    .dataframe tbody tr th:only-of-type {\n",
       "        vertical-align: middle;\n",
       "    }\n",
       "\n",
       "    .dataframe tbody tr th {\n",
       "        vertical-align: top;\n",
       "    }\n",
       "\n",
       "    .dataframe thead th {\n",
       "        text-align: right;\n",
       "    }\n",
       "</style>\n",
       "<table border=\"1\" class=\"dataframe\">\n",
       "  <thead>\n",
       "    <tr style=\"text-align: right;\">\n",
       "      <th></th>\n",
       "      <th>Brand</th>\n",
       "      <th>Current Price</th>\n",
       "      <th>Original Price</th>\n",
       "      <th>Discount Percentage</th>\n",
       "      <th>Rating</th>\n",
       "      <th>Number OF Ratings</th>\n",
       "      <th>Model Name</th>\n",
       "      <th>Dial Shape</th>\n",
       "      <th>Strap Color</th>\n",
       "      <th>Strap Material</th>\n",
       "      <th>Touchscreen</th>\n",
       "      <th>Battery Life (Days)</th>\n",
       "      <th>Bluetooth</th>\n",
       "      <th>Display Size</th>\n",
       "      <th>Weight</th>\n",
       "      <th>Discount Price</th>\n",
       "    </tr>\n",
       "  </thead>\n",
       "  <tbody>\n",
       "    <tr>\n",
       "      <th>0</th>\n",
       "      <td>noise</td>\n",
       "      <td>82990.0</td>\n",
       "      <td>89900.0</td>\n",
       "      <td>7.686318</td>\n",
       "      <td>4.0</td>\n",
       "      <td>65.0</td>\n",
       "      <td>Wrb-sw-colorfitpro4alpha-std-rgld_pnk</td>\n",
       "      <td>NaN</td>\n",
       "      <td>NaN</td>\n",
       "      <td>NaN</td>\n",
       "      <td>NaN</td>\n",
       "      <td>8.0</td>\n",
       "      <td>Yes</td>\n",
       "      <td>NaN</td>\n",
       "      <td>35 - 50 g</td>\n",
       "      <td>6910.000000</td>\n",
       "    </tr>\n",
       "    <tr>\n",
       "      <th>1</th>\n",
       "      <td>fire-boltt</td>\n",
       "      <td>3799.0</td>\n",
       "      <td>16999.0</td>\n",
       "      <td>77.651627</td>\n",
       "      <td>4.3</td>\n",
       "      <td>20788.0</td>\n",
       "      <td>BSW046</td>\n",
       "      <td>NaN</td>\n",
       "      <td>NaN</td>\n",
       "      <td>Silicon</td>\n",
       "      <td>Yes</td>\n",
       "      <td>3.5</td>\n",
       "      <td>Yes</td>\n",
       "      <td>1.8 inches</td>\n",
       "      <td>50 - 75 g</td>\n",
       "      <td>13200.000001</td>\n",
       "    </tr>\n",
       "    <tr>\n",
       "      <th>2</th>\n",
       "      <td>boat</td>\n",
       "      <td>1999.0</td>\n",
       "      <td>7990.0</td>\n",
       "      <td>74.981227</td>\n",
       "      <td>3.8</td>\n",
       "      <td>21724.0</td>\n",
       "      <td>Wave Call</td>\n",
       "      <td>NaN</td>\n",
       "      <td>NaN</td>\n",
       "      <td>Silicon</td>\n",
       "      <td>Yes</td>\n",
       "      <td>8.0</td>\n",
       "      <td>Yes</td>\n",
       "      <td>1.7 inches</td>\n",
       "      <td>35 - 50 g</td>\n",
       "      <td>5991.000000</td>\n",
       "    </tr>\n",
       "    <tr>\n",
       "      <th>3</th>\n",
       "      <td>fire-boltt</td>\n",
       "      <td>1799.0</td>\n",
       "      <td>19999.0</td>\n",
       "      <td>91.004550</td>\n",
       "      <td>4.3</td>\n",
       "      <td>13244.0</td>\n",
       "      <td>BSW053</td>\n",
       "      <td>NaN</td>\n",
       "      <td>NaN</td>\n",
       "      <td>Silicon</td>\n",
       "      <td>Yes</td>\n",
       "      <td>3.5</td>\n",
       "      <td>Yes</td>\n",
       "      <td>1.8 inches</td>\n",
       "      <td>75g +</td>\n",
       "      <td>18200.000000</td>\n",
       "    </tr>\n",
       "    <tr>\n",
       "      <th>4</th>\n",
       "      <td>noise</td>\n",
       "      <td>1599.0</td>\n",
       "      <td>4999.0</td>\n",
       "      <td>68.013603</td>\n",
       "      <td>4.1</td>\n",
       "      <td>13901.0</td>\n",
       "      <td>Wrb-sw-colorfitpulsegobuzz-std-blk_blk</td>\n",
       "      <td>NaN</td>\n",
       "      <td>NaN</td>\n",
       "      <td>Other</td>\n",
       "      <td>Yes</td>\n",
       "      <td>8.0</td>\n",
       "      <td>Yes</td>\n",
       "      <td>1.7 inches</td>\n",
       "      <td>35 - 50 g</td>\n",
       "      <td>3400.000000</td>\n",
       "    </tr>\n",
       "  </tbody>\n",
       "</table>\n",
       "</div>"
      ],
      "text/plain": [
       "        Brand  Current Price  Original Price  Discount Percentage  Rating  \\\n",
       "0       noise        82990.0         89900.0             7.686318     4.0   \n",
       "1  fire-boltt         3799.0         16999.0            77.651627     4.3   \n",
       "2        boat         1999.0          7990.0            74.981227     3.8   \n",
       "3  fire-boltt         1799.0         19999.0            91.004550     4.3   \n",
       "4       noise         1599.0          4999.0            68.013603     4.1   \n",
       "\n",
       "   Number OF Ratings                              Model Name Dial Shape  \\\n",
       "0               65.0   Wrb-sw-colorfitpro4alpha-std-rgld_pnk        NaN   \n",
       "1            20788.0                                  BSW046        NaN   \n",
       "2            21724.0                               Wave Call        NaN   \n",
       "3            13244.0                                  BSW053        NaN   \n",
       "4            13901.0  Wrb-sw-colorfitpulsegobuzz-std-blk_blk        NaN   \n",
       "\n",
       "  Strap Color Strap Material Touchscreen  Battery Life (Days) Bluetooth  \\\n",
       "0         NaN            NaN         NaN                  8.0       Yes   \n",
       "1         NaN        Silicon         Yes                  3.5       Yes   \n",
       "2         NaN        Silicon         Yes                  8.0       Yes   \n",
       "3         NaN        Silicon         Yes                  3.5       Yes   \n",
       "4         NaN          Other         Yes                  8.0       Yes   \n",
       "\n",
       "  Display Size     Weight  Discount Price  \n",
       "0          NaN  35 - 50 g     6910.000000  \n",
       "1   1.8 inches  50 - 75 g    13200.000001  \n",
       "2   1.7 inches  35 - 50 g     5991.000000  \n",
       "3   1.8 inches      75g +    18200.000000  \n",
       "4   1.7 inches  35 - 50 g     3400.000000  "
      ]
     },
     "execution_count": 186,
     "metadata": {},
     "output_type": "execute_result"
    }
   ],
   "source": [
    "df.head()"
   ]
  },
  {
   "cell_type": "code",
   "execution_count": 187,
   "id": "9f0b34d3",
   "metadata": {},
   "outputs": [],
   "source": [
    "\n",
    "\n",
    "df.drop(columns=\"Discount Percentage\", inplace=True)\n",
    "\n"
   ]
  },
  {
   "cell_type": "code",
   "execution_count": 188,
   "id": "8dc3c4bd",
   "metadata": {},
   "outputs": [
    {
     "data": {
      "text/html": [
       "<div>\n",
       "<style scoped>\n",
       "    .dataframe tbody tr th:only-of-type {\n",
       "        vertical-align: middle;\n",
       "    }\n",
       "\n",
       "    .dataframe tbody tr th {\n",
       "        vertical-align: top;\n",
       "    }\n",
       "\n",
       "    .dataframe thead th {\n",
       "        text-align: right;\n",
       "    }\n",
       "</style>\n",
       "<table border=\"1\" class=\"dataframe\">\n",
       "  <thead>\n",
       "    <tr style=\"text-align: right;\">\n",
       "      <th></th>\n",
       "      <th>Brand</th>\n",
       "      <th>Current Price</th>\n",
       "      <th>Original Price</th>\n",
       "      <th>Rating</th>\n",
       "      <th>Number OF Ratings</th>\n",
       "      <th>Model Name</th>\n",
       "      <th>Dial Shape</th>\n",
       "      <th>Strap Color</th>\n",
       "      <th>Strap Material</th>\n",
       "      <th>Touchscreen</th>\n",
       "      <th>Battery Life (Days)</th>\n",
       "      <th>Bluetooth</th>\n",
       "      <th>Display Size</th>\n",
       "      <th>Weight</th>\n",
       "      <th>Discount Price</th>\n",
       "    </tr>\n",
       "  </thead>\n",
       "  <tbody>\n",
       "    <tr>\n",
       "      <th>0</th>\n",
       "      <td>noise</td>\n",
       "      <td>82990.0</td>\n",
       "      <td>89900.0</td>\n",
       "      <td>4.0</td>\n",
       "      <td>65.0</td>\n",
       "      <td>Wrb-sw-colorfitpro4alpha-std-rgld_pnk</td>\n",
       "      <td>NaN</td>\n",
       "      <td>NaN</td>\n",
       "      <td>NaN</td>\n",
       "      <td>NaN</td>\n",
       "      <td>8.0</td>\n",
       "      <td>Yes</td>\n",
       "      <td>NaN</td>\n",
       "      <td>35 - 50 g</td>\n",
       "      <td>6910.000000</td>\n",
       "    </tr>\n",
       "    <tr>\n",
       "      <th>1</th>\n",
       "      <td>fire-boltt</td>\n",
       "      <td>3799.0</td>\n",
       "      <td>16999.0</td>\n",
       "      <td>4.3</td>\n",
       "      <td>20788.0</td>\n",
       "      <td>BSW046</td>\n",
       "      <td>NaN</td>\n",
       "      <td>NaN</td>\n",
       "      <td>Silicon</td>\n",
       "      <td>Yes</td>\n",
       "      <td>3.5</td>\n",
       "      <td>Yes</td>\n",
       "      <td>1.8 inches</td>\n",
       "      <td>50 - 75 g</td>\n",
       "      <td>13200.000001</td>\n",
       "    </tr>\n",
       "    <tr>\n",
       "      <th>2</th>\n",
       "      <td>boat</td>\n",
       "      <td>1999.0</td>\n",
       "      <td>7990.0</td>\n",
       "      <td>3.8</td>\n",
       "      <td>21724.0</td>\n",
       "      <td>Wave Call</td>\n",
       "      <td>NaN</td>\n",
       "      <td>NaN</td>\n",
       "      <td>Silicon</td>\n",
       "      <td>Yes</td>\n",
       "      <td>8.0</td>\n",
       "      <td>Yes</td>\n",
       "      <td>1.7 inches</td>\n",
       "      <td>35 - 50 g</td>\n",
       "      <td>5991.000000</td>\n",
       "    </tr>\n",
       "    <tr>\n",
       "      <th>3</th>\n",
       "      <td>fire-boltt</td>\n",
       "      <td>1799.0</td>\n",
       "      <td>19999.0</td>\n",
       "      <td>4.3</td>\n",
       "      <td>13244.0</td>\n",
       "      <td>BSW053</td>\n",
       "      <td>NaN</td>\n",
       "      <td>NaN</td>\n",
       "      <td>Silicon</td>\n",
       "      <td>Yes</td>\n",
       "      <td>3.5</td>\n",
       "      <td>Yes</td>\n",
       "      <td>1.8 inches</td>\n",
       "      <td>75g +</td>\n",
       "      <td>18200.000000</td>\n",
       "    </tr>\n",
       "    <tr>\n",
       "      <th>4</th>\n",
       "      <td>noise</td>\n",
       "      <td>1599.0</td>\n",
       "      <td>4999.0</td>\n",
       "      <td>4.1</td>\n",
       "      <td>13901.0</td>\n",
       "      <td>Wrb-sw-colorfitpulsegobuzz-std-blk_blk</td>\n",
       "      <td>NaN</td>\n",
       "      <td>NaN</td>\n",
       "      <td>Other</td>\n",
       "      <td>Yes</td>\n",
       "      <td>8.0</td>\n",
       "      <td>Yes</td>\n",
       "      <td>1.7 inches</td>\n",
       "      <td>35 - 50 g</td>\n",
       "      <td>3400.000000</td>\n",
       "    </tr>\n",
       "  </tbody>\n",
       "</table>\n",
       "</div>"
      ],
      "text/plain": [
       "        Brand  Current Price  Original Price  Rating  Number OF Ratings  \\\n",
       "0       noise        82990.0         89900.0     4.0               65.0   \n",
       "1  fire-boltt         3799.0         16999.0     4.3            20788.0   \n",
       "2        boat         1999.0          7990.0     3.8            21724.0   \n",
       "3  fire-boltt         1799.0         19999.0     4.3            13244.0   \n",
       "4       noise         1599.0          4999.0     4.1            13901.0   \n",
       "\n",
       "                               Model Name Dial Shape Strap Color  \\\n",
       "0   Wrb-sw-colorfitpro4alpha-std-rgld_pnk        NaN         NaN   \n",
       "1                                  BSW046        NaN         NaN   \n",
       "2                               Wave Call        NaN         NaN   \n",
       "3                                  BSW053        NaN         NaN   \n",
       "4  Wrb-sw-colorfitpulsegobuzz-std-blk_blk        NaN         NaN   \n",
       "\n",
       "  Strap Material Touchscreen  Battery Life (Days) Bluetooth Display Size  \\\n",
       "0            NaN         NaN                  8.0       Yes          NaN   \n",
       "1        Silicon         Yes                  3.5       Yes   1.8 inches   \n",
       "2        Silicon         Yes                  8.0       Yes   1.7 inches   \n",
       "3        Silicon         Yes                  3.5       Yes   1.8 inches   \n",
       "4          Other         Yes                  8.0       Yes   1.7 inches   \n",
       "\n",
       "      Weight  Discount Price  \n",
       "0  35 - 50 g     6910.000000  \n",
       "1  50 - 75 g    13200.000001  \n",
       "2  35 - 50 g     5991.000000  \n",
       "3      75g +    18200.000000  \n",
       "4  35 - 50 g     3400.000000  "
      ]
     },
     "execution_count": 188,
     "metadata": {},
     "output_type": "execute_result"
    }
   ],
   "source": [
    "df.head()"
   ]
  },
  {
   "cell_type": "code",
   "execution_count": 189,
   "id": "c057ec63",
   "metadata": {},
   "outputs": [
    {
     "data": {
      "text/plain": [
       "['Current Price',\n",
       " 'Original Price',\n",
       " 'Rating',\n",
       " 'Number OF Ratings',\n",
       " 'Battery Life (Days)',\n",
       " 'Discount Price']"
      ]
     },
     "execution_count": 189,
     "metadata": {},
     "output_type": "execute_result"
    }
   ],
   "source": [
    "numerical = [feature for feature in df.columns if df[feature].dtype != \"object\"]\n",
    "numerical"
   ]
  },
  {
   "cell_type": "code",
   "execution_count": 190,
   "id": "de1e4681",
   "metadata": {},
   "outputs": [
    {
     "name": "stdout",
     "output_type": "stream",
     "text": [
      "<class 'pandas.core.frame.DataFrame'>\n",
      "Index: 440 entries, 0 to 449\n",
      "Data columns (total 6 columns):\n",
      " #   Column               Non-Null Count  Dtype  \n",
      "---  ------               --------------  -----  \n",
      " 0   Current Price        440 non-null    float64\n",
      " 1   Original Price       440 non-null    float64\n",
      " 2   Rating               440 non-null    float64\n",
      " 3   Number OF Ratings    440 non-null    float64\n",
      " 4   Battery Life (Days)  440 non-null    float64\n",
      " 5   Discount Price       440 non-null    float64\n",
      "dtypes: float64(6)\n",
      "memory usage: 24.1 KB\n"
     ]
    }
   ],
   "source": [
    "df[numerical].info()"
   ]
  },
  {
   "cell_type": "code",
   "execution_count": 191,
   "id": "1d5ccd09",
   "metadata": {},
   "outputs": [
    {
     "data": {
      "text/html": [
       "<div>\n",
       "<style scoped>\n",
       "    .dataframe tbody tr th:only-of-type {\n",
       "        vertical-align: middle;\n",
       "    }\n",
       "\n",
       "    .dataframe tbody tr th {\n",
       "        vertical-align: top;\n",
       "    }\n",
       "\n",
       "    .dataframe thead th {\n",
       "        text-align: right;\n",
       "    }\n",
       "</style>\n",
       "<table border=\"1\" class=\"dataframe\">\n",
       "  <thead>\n",
       "    <tr style=\"text-align: right;\">\n",
       "      <th></th>\n",
       "      <th>Current Price</th>\n",
       "      <th>Original Price</th>\n",
       "      <th>Rating</th>\n",
       "      <th>Number OF Ratings</th>\n",
       "      <th>Battery Life (Days)</th>\n",
       "      <th>Discount Price</th>\n",
       "    </tr>\n",
       "  </thead>\n",
       "  <tbody>\n",
       "    <tr>\n",
       "      <th>count</th>\n",
       "      <td>440.000000</td>\n",
       "      <td>440.000000</td>\n",
       "      <td>440.000000</td>\n",
       "      <td>440.000000</td>\n",
       "      <td>440.000000</td>\n",
       "      <td>440.000000</td>\n",
       "    </tr>\n",
       "    <tr>\n",
       "      <th>mean</th>\n",
       "      <td>12794.250000</td>\n",
       "      <td>13648.854545</td>\n",
       "      <td>4.033864</td>\n",
       "      <td>9981.279545</td>\n",
       "      <td>14.237377</td>\n",
       "      <td>4936.252273</td>\n",
       "    </tr>\n",
       "    <tr>\n",
       "      <th>std</th>\n",
       "      <td>17734.708001</td>\n",
       "      <td>14483.626960</td>\n",
       "      <td>0.552290</td>\n",
       "      <td>38206.552996</td>\n",
       "      <td>7.453448</td>\n",
       "      <td>3540.956731</td>\n",
       "    </tr>\n",
       "    <tr>\n",
       "      <th>min</th>\n",
       "      <td>1199.000000</td>\n",
       "      <td>1669.000000</td>\n",
       "      <td>1.000000</td>\n",
       "      <td>1.000000</td>\n",
       "      <td>0.750000</td>\n",
       "      <td>-2500.000000</td>\n",
       "    </tr>\n",
       "    <tr>\n",
       "      <th>25%</th>\n",
       "      <td>2299.000000</td>\n",
       "      <td>5999.000000</td>\n",
       "      <td>3.900000</td>\n",
       "      <td>99.750000</td>\n",
       "      <td>8.000000</td>\n",
       "      <td>3000.000000</td>\n",
       "    </tr>\n",
       "    <tr>\n",
       "      <th>50%</th>\n",
       "      <td>3999.000000</td>\n",
       "      <td>7999.000000</td>\n",
       "      <td>4.100000</td>\n",
       "      <td>830.000000</td>\n",
       "      <td>14.237377</td>\n",
       "      <td>4001.000000</td>\n",
       "    </tr>\n",
       "    <tr>\n",
       "      <th>75%</th>\n",
       "      <td>17121.750000</td>\n",
       "      <td>14991.250000</td>\n",
       "      <td>4.300000</td>\n",
       "      <td>4723.750000</td>\n",
       "      <td>22.000000</td>\n",
       "      <td>5991.000000</td>\n",
       "    </tr>\n",
       "    <tr>\n",
       "      <th>max</th>\n",
       "      <td>139990.000000</td>\n",
       "      <td>96390.000000</td>\n",
       "      <td>5.000000</td>\n",
       "      <td>619130.000000</td>\n",
       "      <td>22.000000</td>\n",
       "      <td>19588.999998</td>\n",
       "    </tr>\n",
       "  </tbody>\n",
       "</table>\n",
       "</div>"
      ],
      "text/plain": [
       "       Current Price  Original Price      Rating  Number OF Ratings  \\\n",
       "count     440.000000      440.000000  440.000000         440.000000   \n",
       "mean    12794.250000    13648.854545    4.033864        9981.279545   \n",
       "std     17734.708001    14483.626960    0.552290       38206.552996   \n",
       "min      1199.000000     1669.000000    1.000000           1.000000   \n",
       "25%      2299.000000     5999.000000    3.900000          99.750000   \n",
       "50%      3999.000000     7999.000000    4.100000         830.000000   \n",
       "75%     17121.750000    14991.250000    4.300000        4723.750000   \n",
       "max    139990.000000    96390.000000    5.000000      619130.000000   \n",
       "\n",
       "       Battery Life (Days)  Discount Price  \n",
       "count           440.000000      440.000000  \n",
       "mean             14.237377     4936.252273  \n",
       "std               7.453448     3540.956731  \n",
       "min               0.750000    -2500.000000  \n",
       "25%               8.000000     3000.000000  \n",
       "50%              14.237377     4001.000000  \n",
       "75%              22.000000     5991.000000  \n",
       "max              22.000000    19588.999998  "
      ]
     },
     "execution_count": 191,
     "metadata": {},
     "output_type": "execute_result"
    }
   ],
   "source": [
    "df[numerical].describe()"
   ]
  },
  {
   "cell_type": "code",
   "execution_count": 192,
   "id": "e1a829ef",
   "metadata": {},
   "outputs": [
    {
     "data": {
      "text/plain": [
       "Current Price           2.730871\n",
       "Original Price          2.956394\n",
       "Rating                 -1.583023\n",
       "Number OF Ratings      10.870748\n",
       "Battery Life (Days)    -0.240562\n",
       "Discount Price          1.963475\n",
       "dtype: float64"
      ]
     },
     "execution_count": 192,
     "metadata": {},
     "output_type": "execute_result"
    }
   ],
   "source": [
    "df[numerical].skew()"
   ]
  },
  {
   "cell_type": "code",
   "execution_count": 193,
   "id": "7d7a5a85",
   "metadata": {},
   "outputs": [
    {
     "data": {
      "text/plain": [
       "Number OF Ratings\n",
       "830.0     60\n",
       "6.0       10\n",
       "3.0       10\n",
       "5.0        8\n",
       "2847.0     7\n",
       "          ..\n",
       "1328.0     1\n",
       "469.0      1\n",
       "17.0       1\n",
       "33.0       1\n",
       "83.0       1\n",
       "Name: count, Length: 250, dtype: int64"
      ]
     },
     "execution_count": 193,
     "metadata": {},
     "output_type": "execute_result"
    }
   ],
   "source": [
    "df[\"Number OF Ratings\"].value_counts()"
   ]
  },
  {
   "cell_type": "code",
   "execution_count": 194,
   "id": "8ece8d09",
   "metadata": {},
   "outputs": [
    {
     "data": {
      "text/plain": [
       "{'whiskers': [<matplotlib.lines.Line2D at 0x1a7b6934260>,\n",
       "  <matplotlib.lines.Line2D at 0x1a7b6934590>],\n",
       " 'caps': [<matplotlib.lines.Line2D at 0x1a7b6934890>,\n",
       "  <matplotlib.lines.Line2D at 0x1a7b6934b90>],\n",
       " 'boxes': [<matplotlib.lines.Line2D at 0x1a7b6933ef0>],\n",
       " 'medians': [<matplotlib.lines.Line2D at 0x1a7b6934e60>],\n",
       " 'fliers': [<matplotlib.lines.Line2D at 0x1a7b6935190>],\n",
       " 'means': []}"
      ]
     },
     "execution_count": 194,
     "metadata": {},
     "output_type": "execute_result"
    },
    {
     "data": {
      "image/png": "[encoded data removed]",
      "text/plain": [
       "<Figure size 640x480 with 1 Axes>"
      ]
     },
     "metadata": {},
     "output_type": "display_data"
    }
   ],
   "source": [
    "plt.boxplot(df[\"Number OF Ratings\"])"
   ]
  },
  {
   "cell_type": "code",
   "execution_count": 195,
   "id": "800728d6",
   "metadata": {},
   "outputs": [
    {
     "data": {
      "text/html": [
       "<div>\n",
       "<style scoped>\n",
       "    .dataframe tbody tr th:only-of-type {\n",
       "        vertical-align: middle;\n",
       "    }\n",
       "\n",
       "    .dataframe tbody tr th {\n",
       "        vertical-align: top;\n",
       "    }\n",
       "\n",
       "    .dataframe thead th {\n",
       "        text-align: right;\n",
       "    }\n",
       "</style>\n",
       "<table border=\"1\" class=\"dataframe\">\n",
       "  <thead>\n",
       "    <tr style=\"text-align: right;\">\n",
       "      <th></th>\n",
       "      <th>Brand</th>\n",
       "      <th>Current Price</th>\n",
       "      <th>Original Price</th>\n",
       "      <th>Rating</th>\n",
       "      <th>Number OF Ratings</th>\n",
       "      <th>Model Name</th>\n",
       "      <th>Dial Shape</th>\n",
       "      <th>Strap Color</th>\n",
       "      <th>Strap Material</th>\n",
       "      <th>Touchscreen</th>\n",
       "      <th>Battery Life (Days)</th>\n",
       "      <th>Bluetooth</th>\n",
       "      <th>Display Size</th>\n",
       "      <th>Weight</th>\n",
       "      <th>Discount Price</th>\n",
       "    </tr>\n",
       "  </thead>\n",
       "  <tbody>\n",
       "    <tr>\n",
       "      <th>0</th>\n",
       "      <td>noise</td>\n",
       "      <td>82990.0</td>\n",
       "      <td>89900.0</td>\n",
       "      <td>4.0</td>\n",
       "      <td>65.0</td>\n",
       "      <td>Wrb-sw-colorfitpro4alpha-std-rgld_pnk</td>\n",
       "      <td>NaN</td>\n",
       "      <td>NaN</td>\n",
       "      <td>NaN</td>\n",
       "      <td>NaN</td>\n",
       "      <td>8.0</td>\n",
       "      <td>Yes</td>\n",
       "      <td>NaN</td>\n",
       "      <td>35 - 50 g</td>\n",
       "      <td>6910.000000</td>\n",
       "    </tr>\n",
       "    <tr>\n",
       "      <th>1</th>\n",
       "      <td>fire-boltt</td>\n",
       "      <td>3799.0</td>\n",
       "      <td>16999.0</td>\n",
       "      <td>4.3</td>\n",
       "      <td>20788.0</td>\n",
       "      <td>BSW046</td>\n",
       "      <td>NaN</td>\n",
       "      <td>NaN</td>\n",
       "      <td>Silicon</td>\n",
       "      <td>Yes</td>\n",
       "      <td>3.5</td>\n",
       "      <td>Yes</td>\n",
       "      <td>1.8 inches</td>\n",
       "      <td>50 - 75 g</td>\n",
       "      <td>13200.000001</td>\n",
       "    </tr>\n",
       "    <tr>\n",
       "      <th>2</th>\n",
       "      <td>boat</td>\n",
       "      <td>1999.0</td>\n",
       "      <td>7990.0</td>\n",
       "      <td>3.8</td>\n",
       "      <td>21724.0</td>\n",
       "      <td>Wave Call</td>\n",
       "      <td>NaN</td>\n",
       "      <td>NaN</td>\n",
       "      <td>Silicon</td>\n",
       "      <td>Yes</td>\n",
       "      <td>8.0</td>\n",
       "      <td>Yes</td>\n",
       "      <td>1.7 inches</td>\n",
       "      <td>35 - 50 g</td>\n",
       "      <td>5991.000000</td>\n",
       "    </tr>\n",
       "    <tr>\n",
       "      <th>3</th>\n",
       "      <td>fire-boltt</td>\n",
       "      <td>1799.0</td>\n",
       "      <td>19999.0</td>\n",
       "      <td>4.3</td>\n",
       "      <td>13244.0</td>\n",
       "      <td>BSW053</td>\n",
       "      <td>NaN</td>\n",
       "      <td>NaN</td>\n",
       "      <td>Silicon</td>\n",
       "      <td>Yes</td>\n",
       "      <td>3.5</td>\n",
       "      <td>Yes</td>\n",
       "      <td>1.8 inches</td>\n",
       "      <td>75g +</td>\n",
       "      <td>18200.000000</td>\n",
       "    </tr>\n",
       "    <tr>\n",
       "      <th>4</th>\n",
       "      <td>noise</td>\n",
       "      <td>1599.0</td>\n",
       "      <td>4999.0</td>\n",
       "      <td>4.1</td>\n",
       "      <td>13901.0</td>\n",
       "      <td>Wrb-sw-colorfitpulsegobuzz-std-blk_blk</td>\n",
       "      <td>NaN</td>\n",
       "      <td>NaN</td>\n",
       "      <td>Other</td>\n",
       "      <td>Yes</td>\n",
       "      <td>8.0</td>\n",
       "      <td>Yes</td>\n",
       "      <td>1.7 inches</td>\n",
       "      <td>35 - 50 g</td>\n",
       "      <td>3400.000000</td>\n",
       "    </tr>\n",
       "  </tbody>\n",
       "</table>\n",
       "</div>"
      ],
      "text/plain": [
       "        Brand  Current Price  Original Price  Rating  Number OF Ratings  \\\n",
       "0       noise        82990.0         89900.0     4.0               65.0   \n",
       "1  fire-boltt         3799.0         16999.0     4.3            20788.0   \n",
       "2        boat         1999.0          7990.0     3.8            21724.0   \n",
       "3  fire-boltt         1799.0         19999.0     4.3            13244.0   \n",
       "4       noise         1599.0          4999.0     4.1            13901.0   \n",
       "\n",
       "                               Model Name Dial Shape Strap Color  \\\n",
       "0   Wrb-sw-colorfitpro4alpha-std-rgld_pnk        NaN         NaN   \n",
       "1                                  BSW046        NaN         NaN   \n",
       "2                               Wave Call        NaN         NaN   \n",
       "3                                  BSW053        NaN         NaN   \n",
       "4  Wrb-sw-colorfitpulsegobuzz-std-blk_blk        NaN         NaN   \n",
       "\n",
       "  Strap Material Touchscreen  Battery Life (Days) Bluetooth Display Size  \\\n",
       "0            NaN         NaN                  8.0       Yes          NaN   \n",
       "1        Silicon         Yes                  3.5       Yes   1.8 inches   \n",
       "2        Silicon         Yes                  8.0       Yes   1.7 inches   \n",
       "3        Silicon         Yes                  3.5       Yes   1.8 inches   \n",
       "4          Other         Yes                  8.0       Yes   1.7 inches   \n",
       "\n",
       "      Weight  Discount Price  \n",
       "0  35 - 50 g     6910.000000  \n",
       "1  50 - 75 g    13200.000001  \n",
       "2  35 - 50 g     5991.000000  \n",
       "3      75g +    18200.000000  \n",
       "4  35 - 50 g     3400.000000  "
      ]
     },
     "execution_count": 195,
     "metadata": {},
     "output_type": "execute_result"
    }
   ],
   "source": [
    "df.head()"
   ]
  },
  {
   "cell_type": "code",
   "execution_count": 196,
   "id": "8f940394",
   "metadata": {},
   "outputs": [
    {
     "data": {
      "text/plain": [
       "0           NaN\n",
       "1    1.8 inches\n",
       "2    1.7 inches\n",
       "3    1.8 inches\n",
       "4    1.7 inches\n",
       "Name: Display Size, dtype: object"
      ]
     },
     "execution_count": 196,
     "metadata": {},
     "output_type": "execute_result"
    }
   ],
   "source": [
    "df[\"Display Size\"].head()"
   ]
  },
  {
   "cell_type": "code",
   "execution_count": 197,
   "id": "a225934c",
   "metadata": {},
   "outputs": [
    {
     "data": {
      "text/plain": [
       "np.int64(30)"
      ]
     },
     "execution_count": 197,
     "metadata": {},
     "output_type": "execute_result"
    }
   ],
   "source": [
    "df[\"Display Size\"].isnull().sum()"
   ]
  },
  {
   "cell_type": "code",
   "execution_count": 198,
   "id": "1349726d",
   "metadata": {},
   "outputs": [
    {
     "data": {
      "text/plain": [
       "np.int64(0)"
      ]
     },
     "execution_count": 198,
     "metadata": {},
     "output_type": "execute_result"
    }
   ],
   "source": [
    "df[\"Display Size\"] = df[\"Display Size\"].fillna(\"0.0 inches\")\n",
    "df[\"Display Size\"].isnull().sum()"
   ]
  },
  {
   "cell_type": "code",
   "execution_count": 199,
   "id": "11938e75",
   "metadata": {},
   "outputs": [
    {
     "data": {
      "text/plain": [
       "'1.7'"
      ]
     },
     "execution_count": 199,
     "metadata": {},
     "output_type": "execute_result"
    }
   ],
   "source": [
    "\"1.7 inches\".split()[0]"
   ]
  },
  {
   "cell_type": "code",
   "execution_count": 200,
   "id": "a832d056",
   "metadata": {},
   "outputs": [
    {
     "data": {
      "text/plain": [
       "0    0.0\n",
       "1    1.8\n",
       "2    1.7\n",
       "3    1.8\n",
       "4    1.7\n",
       "Name: Display Size, dtype: float64"
      ]
     },
     "execution_count": 200,
     "metadata": {},
     "output_type": "execute_result"
    }
   ],
   "source": [
    "df[\"Display Size\"] = df[\"Display Size\"].apply( lambda x: float(x.split()[0]) )\n",
    "df[\"Display Size\"].head()"
   ]
  },
  {
   "cell_type": "code",
   "execution_count": 201,
   "id": "57a3ab47",
   "metadata": {},
   "outputs": [],
   "source": [
    "df[\"Display Size\"] = df[\"Display Size\"].apply( lambda x: np.nan if x == 0.0 else x)"
   ]
  },
  {
   "cell_type": "code",
   "execution_count": 202,
   "id": "0714c27a",
   "metadata": {},
   "outputs": [
    {
     "data": {
      "text/plain": [
       "np.int64(31)"
      ]
     },
     "execution_count": 202,
     "metadata": {},
     "output_type": "execute_result"
    }
   ],
   "source": [
    "df[\"Display Size\"].isnull().sum()"
   ]
  },
  {
   "cell_type": "code",
   "execution_count": 203,
   "id": "168afca5",
   "metadata": {},
   "outputs": [
    {
     "data": {
      "text/plain": [
       "np.float64(6.78718426845856)"
      ]
     },
     "execution_count": 203,
     "metadata": {},
     "output_type": "execute_result"
    }
   ],
   "source": [
    "df[\"Display Size\"].skew()"
   ]
  },
  {
   "cell_type": "code",
   "execution_count": 204,
   "id": "8a7393e8",
   "metadata": {},
   "outputs": [
    {
     "data": {
      "text/plain": [
       "np.int64(0)"
      ]
     },
     "execution_count": 204,
     "metadata": {},
     "output_type": "execute_result"
    }
   ],
   "source": [
    "df[\"Display Size\"] = df[\"Display Size\"].fillna(df[\"Display Size\"].median())\n",
    "df[\"Display Size\"].isnull().sum()"
   ]
  },
  {
   "cell_type": "code",
   "execution_count": 205,
   "id": "67bcfbdf",
   "metadata": {},
   "outputs": [
    {
     "data": {
      "text/plain": [
       "['Current Price',\n",
       " 'Original Price',\n",
       " 'Rating',\n",
       " 'Number OF Ratings',\n",
       " 'Battery Life (Days)',\n",
       " 'Display Size',\n",
       " 'Discount Price']"
      ]
     },
     "execution_count": 205,
     "metadata": {},
     "output_type": "execute_result"
    }
   ],
   "source": [
    "numerical = [feature for feature in df.columns if df[feature].dtype != \"object\"]\n",
    "numerical"
   ]
  },
  {
   "cell_type": "code",
   "execution_count": 206,
   "id": "10d45ae6",
   "metadata": {},
   "outputs": [
    {
     "data": {
      "text/html": [
       "<div>\n",
       "<style scoped>\n",
       "    .dataframe tbody tr th:only-of-type {\n",
       "        vertical-align: middle;\n",
       "    }\n",
       "\n",
       "    .dataframe tbody tr th {\n",
       "        vertical-align: top;\n",
       "    }\n",
       "\n",
       "    .dataframe thead th {\n",
       "        text-align: right;\n",
       "    }\n",
       "</style>\n",
       "<table border=\"1\" class=\"dataframe\">\n",
       "  <thead>\n",
       "    <tr style=\"text-align: right;\">\n",
       "      <th></th>\n",
       "      <th>Brand</th>\n",
       "      <th>Current Price</th>\n",
       "      <th>Original Price</th>\n",
       "      <th>Rating</th>\n",
       "      <th>Number OF Ratings</th>\n",
       "      <th>Model Name</th>\n",
       "      <th>Dial Shape</th>\n",
       "      <th>Strap Color</th>\n",
       "      <th>Strap Material</th>\n",
       "      <th>Touchscreen</th>\n",
       "      <th>Battery Life (Days)</th>\n",
       "      <th>Bluetooth</th>\n",
       "      <th>Display Size</th>\n",
       "      <th>Weight</th>\n",
       "      <th>Discount Price</th>\n",
       "    </tr>\n",
       "  </thead>\n",
       "  <tbody>\n",
       "    <tr>\n",
       "      <th>0</th>\n",
       "      <td>noise</td>\n",
       "      <td>82990.0</td>\n",
       "      <td>89900.0</td>\n",
       "      <td>4.0</td>\n",
       "      <td>65.0</td>\n",
       "      <td>Wrb-sw-colorfitpro4alpha-std-rgld_pnk</td>\n",
       "      <td>NaN</td>\n",
       "      <td>NaN</td>\n",
       "      <td>NaN</td>\n",
       "      <td>NaN</td>\n",
       "      <td>8.0</td>\n",
       "      <td>Yes</td>\n",
       "      <td>1.6</td>\n",
       "      <td>35 - 50 g</td>\n",
       "      <td>6910.000000</td>\n",
       "    </tr>\n",
       "    <tr>\n",
       "      <th>1</th>\n",
       "      <td>fire-boltt</td>\n",
       "      <td>3799.0</td>\n",
       "      <td>16999.0</td>\n",
       "      <td>4.3</td>\n",
       "      <td>20788.0</td>\n",
       "      <td>BSW046</td>\n",
       "      <td>NaN</td>\n",
       "      <td>NaN</td>\n",
       "      <td>Silicon</td>\n",
       "      <td>Yes</td>\n",
       "      <td>3.5</td>\n",
       "      <td>Yes</td>\n",
       "      <td>1.8</td>\n",
       "      <td>50 - 75 g</td>\n",
       "      <td>13200.000001</td>\n",
       "    </tr>\n",
       "    <tr>\n",
       "      <th>2</th>\n",
       "      <td>boat</td>\n",
       "      <td>1999.0</td>\n",
       "      <td>7990.0</td>\n",
       "      <td>3.8</td>\n",
       "      <td>21724.0</td>\n",
       "      <td>Wave Call</td>\n",
       "      <td>NaN</td>\n",
       "      <td>NaN</td>\n",
       "      <td>Silicon</td>\n",
       "      <td>Yes</td>\n",
       "      <td>8.0</td>\n",
       "      <td>Yes</td>\n",
       "      <td>1.7</td>\n",
       "      <td>35 - 50 g</td>\n",
       "      <td>5991.000000</td>\n",
       "    </tr>\n",
       "    <tr>\n",
       "      <th>3</th>\n",
       "      <td>fire-boltt</td>\n",
       "      <td>1799.0</td>\n",
       "      <td>19999.0</td>\n",
       "      <td>4.3</td>\n",
       "      <td>13244.0</td>\n",
       "      <td>BSW053</td>\n",
       "      <td>NaN</td>\n",
       "      <td>NaN</td>\n",
       "      <td>Silicon</td>\n",
       "      <td>Yes</td>\n",
       "      <td>3.5</td>\n",
       "      <td>Yes</td>\n",
       "      <td>1.8</td>\n",
       "      <td>75g +</td>\n",
       "      <td>18200.000000</td>\n",
       "    </tr>\n",
       "    <tr>\n",
       "      <th>4</th>\n",
       "      <td>noise</td>\n",
       "      <td>1599.0</td>\n",
       "      <td>4999.0</td>\n",
       "      <td>4.1</td>\n",
       "      <td>13901.0</td>\n",
       "      <td>Wrb-sw-colorfitpulsegobuzz-std-blk_blk</td>\n",
       "      <td>NaN</td>\n",
       "      <td>NaN</td>\n",
       "      <td>Other</td>\n",
       "      <td>Yes</td>\n",
       "      <td>8.0</td>\n",
       "      <td>Yes</td>\n",
       "      <td>1.7</td>\n",
       "      <td>35 - 50 g</td>\n",
       "      <td>3400.000000</td>\n",
       "    </tr>\n",
       "  </tbody>\n",
       "</table>\n",
       "</div>"
      ],
      "text/plain": [
       "        Brand  Current Price  Original Price  Rating  Number OF Ratings  \\\n",
       "0       noise        82990.0         89900.0     4.0               65.0   \n",
       "1  fire-boltt         3799.0         16999.0     4.3            20788.0   \n",
       "2        boat         1999.0          7990.0     3.8            21724.0   \n",
       "3  fire-boltt         1799.0         19999.0     4.3            13244.0   \n",
       "4       noise         1599.0          4999.0     4.1            13901.0   \n",
       "\n",
       "                               Model Name Dial Shape Strap Color  \\\n",
       "0   Wrb-sw-colorfitpro4alpha-std-rgld_pnk        NaN         NaN   \n",
       "1                                  BSW046        NaN         NaN   \n",
       "2                               Wave Call        NaN         NaN   \n",
       "3                                  BSW053        NaN         NaN   \n",
       "4  Wrb-sw-colorfitpulsegobuzz-std-blk_blk        NaN         NaN   \n",
       "\n",
       "  Strap Material Touchscreen  Battery Life (Days) Bluetooth  Display Size  \\\n",
       "0            NaN         NaN                  8.0       Yes           1.6   \n",
       "1        Silicon         Yes                  3.5       Yes           1.8   \n",
       "2        Silicon         Yes                  8.0       Yes           1.7   \n",
       "3        Silicon         Yes                  3.5       Yes           1.8   \n",
       "4          Other         Yes                  8.0       Yes           1.7   \n",
       "\n",
       "      Weight  Discount Price  \n",
       "0  35 - 50 g     6910.000000  \n",
       "1  50 - 75 g    13200.000001  \n",
       "2  35 - 50 g     5991.000000  \n",
       "3      75g +    18200.000000  \n",
       "4  35 - 50 g     3400.000000  "
      ]
     },
     "execution_count": 206,
     "metadata": {},
     "output_type": "execute_result"
    }
   ],
   "source": [
    "df.head()"
   ]
  },
  {
   "cell_type": "code",
   "execution_count": 207,
   "id": "f1cf86ad",
   "metadata": {},
   "outputs": [
    {
     "data": {
      "text/plain": [
       "0    35 - 50 g\n",
       "1    50 - 75 g\n",
       "2    35 - 50 g\n",
       "3        75g +\n",
       "4    35 - 50 g\n",
       "Name: Weight, dtype: object"
      ]
     },
     "execution_count": 207,
     "metadata": {},
     "output_type": "execute_result"
    }
   ],
   "source": [
    "df[\"Weight\"].head()"
   ]
  },
  {
   "cell_type": "code",
   "execution_count": 208,
   "id": "de123681",
   "metadata": {},
   "outputs": [
    {
     "data": {
      "text/plain": [
       "Weight\n",
       "20 - 35 g    78\n",
       "75g +        65\n",
       "35 - 50 g    55\n",
       "<= 20 g      43\n",
       "50 - 75 g    13\n",
       "Name: count, dtype: int64"
      ]
     },
     "execution_count": 208,
     "metadata": {},
     "output_type": "execute_result"
    }
   ],
   "source": [
    "df[\"Weight\"].value_counts()"
   ]
  },
  {
   "cell_type": "code",
   "execution_count": 213,
   "id": "7fdbccc1",
   "metadata": {},
   "outputs": [],
   "source": [
    "calc = (20 + 35) / 2\n",
    "calc\n",
    "df[\"Weight\"].replace(\"20 - 35 g\", calc, inplace=True)"
   ]
  },
  {
   "cell_type": "code",
   "execution_count": 221,
   "id": "17fb6eee",
   "metadata": {},
   "outputs": [
    {
     "data": {
      "text/plain": [
       "Weight\n",
       "27.5    78\n",
       "76.0    65\n",
       "42.5    55\n",
       "20.0    43\n",
       "62.5    13\n",
       "Name: count, dtype: int64"
      ]
     },
     "execution_count": 221,
     "metadata": {},
     "output_type": "execute_result"
    }
   ],
   "source": [
    "df[\"Weight\"].value_counts()"
   ]
  },
  {
   "cell_type": "code",
   "execution_count": 215,
   "id": "88adbb29",
   "metadata": {},
   "outputs": [],
   "source": [
    "calc1 = (35 + 50) / 2\n",
    "calc1\n",
    "df[\"Weight\"].replace(\"35 - 50 g\", calc1, inplace=True)"
   ]
  },
  {
   "cell_type": "code",
   "execution_count": 217,
   "id": "4d21a68c",
   "metadata": {},
   "outputs": [],
   "source": [
    "df[\"Weight\"].replace(\"75g +\", 76, inplace=True)"
   ]
  },
  {
   "cell_type": "code",
   "execution_count": 218,
   "id": "c2788288",
   "metadata": {},
   "outputs": [],
   "source": [
    "calc2 = (50 + 75) / 2\n",
    "calc2\n",
    "df[\"Weight\"].replace(\"50 - 75 g\", calc2, inplace=True)"
   ]
  },
  {
   "cell_type": "code",
   "execution_count": 220,
   "id": "01132330",
   "metadata": {},
   "outputs": [
    {
     "name": "stderr",
     "output_type": "stream",
     "text": [
      "C:\\Users\\DELL\\AppData\\Local\\Temp\\ipykernel_17536\\298182756.py:1: FutureWarning: Downcasting behavior in `replace` is deprecated and will be removed in a future version. To retain the old behavior, explicitly call `result.infer_objects(copy=False)`. To opt-in to the future behavior, set `pd.set_option('future.no_silent_downcasting', True)`\n",
      "  df[\"Weight\"].replace(\"<= 20 g\", 20, inplace=True)\n"
     ]
    }
   ],
   "source": [
    "df[\"Weight\"].replace(\"<= 20 g\", 20, inplace=True)"
   ]
  },
  {
   "cell_type": "code",
   "execution_count": 223,
   "id": "9016abc7",
   "metadata": {},
   "outputs": [
    {
     "data": {
      "text/plain": [
       "0      42.5\n",
       "1      62.5\n",
       "2      42.5\n",
       "3      76.0\n",
       "4      42.5\n",
       "       ... \n",
       "445     NaN\n",
       "446     NaN\n",
       "447     NaN\n",
       "448     NaN\n",
       "449     NaN\n",
       "Name: Weight, Length: 440, dtype: float64"
      ]
     },
     "execution_count": 223,
     "metadata": {},
     "output_type": "execute_result"
    }
   ],
   "source": [
    "df[\"Weight\"]"
   ]
  },
  {
   "cell_type": "code",
   "execution_count": 224,
   "id": "b1e9d780",
   "metadata": {},
   "outputs": [
    {
     "data": {
      "text/plain": [
       "['Current Price',\n",
       " 'Original Price',\n",
       " 'Rating',\n",
       " 'Number OF Ratings',\n",
       " 'Battery Life (Days)',\n",
       " 'Display Size',\n",
       " 'Weight',\n",
       " 'Discount Price']"
      ]
     },
     "execution_count": 224,
     "metadata": {},
     "output_type": "execute_result"
    }
   ],
   "source": [
    "numerical = [feature for feature in df.columns if df[feature].dtype != \"object\"]\n",
    "numerical"
   ]
  },
  {
   "cell_type": "code",
   "execution_count": 226,
   "id": "4e1648e0",
   "metadata": {},
   "outputs": [
    {
     "name": "stdout",
     "output_type": "stream",
     "text": [
      "<class 'pandas.core.frame.DataFrame'>\n",
      "Index: 440 entries, 0 to 449\n",
      "Data columns (total 8 columns):\n",
      " #   Column               Non-Null Count  Dtype  \n",
      "---  ------               --------------  -----  \n",
      " 0   Current Price        440 non-null    float64\n",
      " 1   Original Price       440 non-null    float64\n",
      " 2   Rating               440 non-null    float64\n",
      " 3   Number OF Ratings    440 non-null    float64\n",
      " 4   Battery Life (Days)  440 non-null    float64\n",
      " 5   Display Size         440 non-null    float64\n",
      " 6   Weight               254 non-null    float64\n",
      " 7   Discount Price       440 non-null    float64\n",
      "dtypes: float64(8)\n",
      "memory usage: 30.9 KB\n"
     ]
    }
   ],
   "source": [
    "df[numerical].info()"
   ]
  },
  {
   "cell_type": "code",
   "execution_count": 232,
   "id": "5b192f7b",
   "metadata": {},
   "outputs": [
    {
     "data": {
      "image/png": "[encoded data removed]",
      "text/plain": [
       "<Figure size 640x480 with 1 Axes>"
      ]
     },
     "metadata": {},
     "output_type": "display_data"
    }
   ],
   "source": [
    "plt.boxplot(df[\"Weight\"].dropna())  # drop NaNs for clean plot\n",
    "plt.show()\n"
   ]
  },
  {
   "cell_type": "code",
   "execution_count": 233,
   "id": "8757e107",
   "metadata": {},
   "outputs": [
    {
     "data": {
      "text/plain": [
       "Weight\n",
       "27.5    78\n",
       "76.0    65\n",
       "42.5    55\n",
       "20.0    43\n",
       "62.5    13\n",
       "Name: count, dtype: int64"
      ]
     },
     "execution_count": 233,
     "metadata": {},
     "output_type": "execute_result"
    }
   ],
   "source": [
    "df[\"Weight\"].value_counts()"
   ]
  },
  {
   "cell_type": "code",
   "execution_count": 234,
   "id": "1ce7b64e",
   "metadata": {},
   "outputs": [
    {
     "data": {
      "text/plain": [
       "np.int64(186)"
      ]
     },
     "execution_count": 234,
     "metadata": {},
     "output_type": "execute_result"
    }
   ],
   "source": [
    "df[\"Weight\"].isnull().sum()"
   ]
  },
  {
   "cell_type": "code",
   "execution_count": 235,
   "id": "0754cd89",
   "metadata": {},
   "outputs": [
    {
     "data": {
      "text/plain": [
       "np.int64(0)"
      ]
     },
     "execution_count": 235,
     "metadata": {},
     "output_type": "execute_result"
    }
   ],
   "source": [
    "df[\"Weight\"] = df[\"Weight\"].fillna(df[\"Weight\"].mean())\n",
    "df[\"Weight\"].isnull().sum()"
   ]
  },
  {
   "cell_type": "code",
   "execution_count": 236,
   "id": "5eba6234",
   "metadata": {},
   "outputs": [
    {
     "data": {
      "text/plain": [
       "0    42.5\n",
       "1    62.5\n",
       "2    42.5\n",
       "3    76.0\n",
       "4    42.5\n",
       "Name: Weight, dtype: float64"
      ]
     },
     "execution_count": 236,
     "metadata": {},
     "output_type": "execute_result"
    }
   ],
   "source": [
    "df[\"Weight\"].head()"
   ]
  },
  {
   "cell_type": "code",
   "execution_count": 238,
   "id": "01a49507",
   "metadata": {},
   "outputs": [],
   "source": [
    "def remove_outlier_IQR(df, column):\n",
    "    \"\"\"\n",
    "    Removes outliers from a specified column in the dataframe using the IQR method.\n",
    "    \n",
    "    Parameters:\n",
    "        df (pd.DataFrame): The input dataframe\n",
    "        column (str): The column name to clean\n",
    "    \n",
    "    Returns:\n",
    "        pd.DataFrame: A new dataframe with outliers removed\n",
    "    \"\"\"\n",
    "    Q1 = df[column].quantile(0.25)\n",
    "    Q3 = df[column].quantile(0.75)\n",
    "    IQR = Q3 - Q1\n",
    "\n",
    "    lower_bound = Q1 - 1.5 * IQR\n",
    "    upper_bound = Q3 + 1.5 * IQR\n",
    "\n",
    "    cleaned_df = df[(df[column] >= lower_bound) & (df[column] <= upper_bound)]\n",
    "    return cleaned_df\n"
   ]
  },
  {
   "cell_type": "code",
   "execution_count": 239,
   "id": "50f7b5a1",
   "metadata": {},
   "outputs": [
    {
     "data": {
      "text/plain": [
       "['Current Price',\n",
       " 'Original Price',\n",
       " 'Rating',\n",
       " 'Number OF Ratings',\n",
       " 'Battery Life (Days)',\n",
       " 'Display Size',\n",
       " 'Weight',\n",
       " 'Discount Price']"
      ]
     },
     "execution_count": 239,
     "metadata": {},
     "output_type": "execute_result"
    }
   ],
   "source": [
    "numerical"
   ]
  },
  {
   "cell_type": "code",
   "execution_count": 240,
   "id": "40fd9ee1",
   "metadata": {},
   "outputs": [],
   "source": [
    "df_cleaned = remove_outlier_IQR(df,\"Current Price\") \n",
    "df_cleaned = remove_outlier_IQR(df,\"Original Price\")\n",
    "df_cleaned = remove_outlier_IQR(df,\"Rating\")\n",
    "df_cleaned = remove_outlier_IQR(df,\"Number OF Ratings\")\n",
    "df_cleaned = remove_outlier_IQR(df,\"Battery Life (Days)\")\n",
    "df_cleaned = remove_outlier_IQR(df,\"Display Size\")\n",
    "df_cleaned = remove_outlier_IQR(df,\"Weight\")\n",
    "df_cleaned = remove_outlier_IQR(df,\"Discount Price\")\n"
   ]
  },
  {
   "cell_type": "code",
   "execution_count": 241,
   "id": "c16340db",
   "metadata": {},
   "outputs": [
    {
     "data": {
      "text/html": [
       "<div>\n",
       "<style scoped>\n",
       "    .dataframe tbody tr th:only-of-type {\n",
       "        vertical-align: middle;\n",
       "    }\n",
       "\n",
       "    .dataframe tbody tr th {\n",
       "        vertical-align: top;\n",
       "    }\n",
       "\n",
       "    .dataframe thead th {\n",
       "        text-align: right;\n",
       "    }\n",
       "</style>\n",
       "<table border=\"1\" class=\"dataframe\">\n",
       "  <thead>\n",
       "    <tr style=\"text-align: right;\">\n",
       "      <th></th>\n",
       "      <th>Brand</th>\n",
       "      <th>Current Price</th>\n",
       "      <th>Original Price</th>\n",
       "      <th>Rating</th>\n",
       "      <th>Number OF Ratings</th>\n",
       "      <th>Model Name</th>\n",
       "      <th>Dial Shape</th>\n",
       "      <th>Strap Color</th>\n",
       "      <th>Strap Material</th>\n",
       "      <th>Touchscreen</th>\n",
       "      <th>Battery Life (Days)</th>\n",
       "      <th>Bluetooth</th>\n",
       "      <th>Display Size</th>\n",
       "      <th>Weight</th>\n",
       "      <th>Discount Price</th>\n",
       "    </tr>\n",
       "  </thead>\n",
       "  <tbody>\n",
       "    <tr>\n",
       "      <th>0</th>\n",
       "      <td>noise</td>\n",
       "      <td>82990.0</td>\n",
       "      <td>89900.0</td>\n",
       "      <td>4.0</td>\n",
       "      <td>65.0</td>\n",
       "      <td>Wrb-sw-colorfitpro4alpha-std-rgld_pnk</td>\n",
       "      <td>NaN</td>\n",
       "      <td>NaN</td>\n",
       "      <td>NaN</td>\n",
       "      <td>NaN</td>\n",
       "      <td>8.000000</td>\n",
       "      <td>Yes</td>\n",
       "      <td>1.6</td>\n",
       "      <td>42.5</td>\n",
       "      <td>6910.0</td>\n",
       "    </tr>\n",
       "    <tr>\n",
       "      <th>2</th>\n",
       "      <td>boat</td>\n",
       "      <td>1999.0</td>\n",
       "      <td>7990.0</td>\n",
       "      <td>3.8</td>\n",
       "      <td>21724.0</td>\n",
       "      <td>Wave Call</td>\n",
       "      <td>NaN</td>\n",
       "      <td>NaN</td>\n",
       "      <td>Silicon</td>\n",
       "      <td>Yes</td>\n",
       "      <td>8.000000</td>\n",
       "      <td>Yes</td>\n",
       "      <td>1.7</td>\n",
       "      <td>42.5</td>\n",
       "      <td>5991.0</td>\n",
       "    </tr>\n",
       "    <tr>\n",
       "      <th>4</th>\n",
       "      <td>noise</td>\n",
       "      <td>1599.0</td>\n",
       "      <td>4999.0</td>\n",
       "      <td>4.1</td>\n",
       "      <td>13901.0</td>\n",
       "      <td>Wrb-sw-colorfitpulsegobuzz-std-blk_blk</td>\n",
       "      <td>NaN</td>\n",
       "      <td>NaN</td>\n",
       "      <td>Other</td>\n",
       "      <td>Yes</td>\n",
       "      <td>8.000000</td>\n",
       "      <td>Yes</td>\n",
       "      <td>1.7</td>\n",
       "      <td>42.5</td>\n",
       "      <td>3400.0</td>\n",
       "    </tr>\n",
       "    <tr>\n",
       "      <th>5</th>\n",
       "      <td>noise</td>\n",
       "      <td>1499.0</td>\n",
       "      <td>3999.0</td>\n",
       "      <td>4.0</td>\n",
       "      <td>32704.0</td>\n",
       "      <td>NSW-05</td>\n",
       "      <td>NaN</td>\n",
       "      <td>NaN</td>\n",
       "      <td>Other</td>\n",
       "      <td>Yes</td>\n",
       "      <td>8.000000</td>\n",
       "      <td>Yes</td>\n",
       "      <td>1.7</td>\n",
       "      <td>42.5</td>\n",
       "      <td>2500.0</td>\n",
       "    </tr>\n",
       "    <tr>\n",
       "      <th>6</th>\n",
       "      <td>noise</td>\n",
       "      <td>1999.0</td>\n",
       "      <td>4999.0</td>\n",
       "      <td>4.1</td>\n",
       "      <td>1018.0</td>\n",
       "      <td>NaN</td>\n",
       "      <td>NaN</td>\n",
       "      <td>NaN</td>\n",
       "      <td>NaN</td>\n",
       "      <td>NaN</td>\n",
       "      <td>14.237377</td>\n",
       "      <td>Yes</td>\n",
       "      <td>1.4</td>\n",
       "      <td>42.5</td>\n",
       "      <td>3000.0</td>\n",
       "    </tr>\n",
       "  </tbody>\n",
       "</table>\n",
       "</div>"
      ],
      "text/plain": [
       "   Brand  Current Price  Original Price  Rating  Number OF Ratings  \\\n",
       "0  noise        82990.0         89900.0     4.0               65.0   \n",
       "2   boat         1999.0          7990.0     3.8            21724.0   \n",
       "4  noise         1599.0          4999.0     4.1            13901.0   \n",
       "5  noise         1499.0          3999.0     4.0            32704.0   \n",
       "6  noise         1999.0          4999.0     4.1             1018.0   \n",
       "\n",
       "                               Model Name Dial Shape Strap Color  \\\n",
       "0   Wrb-sw-colorfitpro4alpha-std-rgld_pnk        NaN         NaN   \n",
       "2                               Wave Call        NaN         NaN   \n",
       "4  Wrb-sw-colorfitpulsegobuzz-std-blk_blk        NaN         NaN   \n",
       "5                                  NSW-05        NaN         NaN   \n",
       "6                                     NaN        NaN         NaN   \n",
       "\n",
       "  Strap Material Touchscreen  Battery Life (Days) Bluetooth  Display Size  \\\n",
       "0            NaN         NaN             8.000000       Yes           1.6   \n",
       "2        Silicon         Yes             8.000000       Yes           1.7   \n",
       "4          Other         Yes             8.000000       Yes           1.7   \n",
       "5          Other         Yes             8.000000       Yes           1.7   \n",
       "6            NaN         NaN            14.237377       Yes           1.4   \n",
       "\n",
       "   Weight  Discount Price  \n",
       "0    42.5          6910.0  \n",
       "2    42.5          5991.0  \n",
       "4    42.5          3400.0  \n",
       "5    42.5          2500.0  \n",
       "6    42.5          3000.0  "
      ]
     },
     "execution_count": 241,
     "metadata": {},
     "output_type": "execute_result"
    }
   ],
   "source": [
    "df_cleaned.head()"
   ]
  },
  {
   "cell_type": "code",
   "execution_count": 242,
   "id": "3b215f2e",
   "metadata": {},
   "outputs": [
    {
     "name": "stdout",
     "output_type": "stream",
     "text": [
      "<class 'pandas.core.frame.DataFrame'>\n",
      "Index: 405 entries, 0 to 449\n",
      "Data columns (total 8 columns):\n",
      " #   Column               Non-Null Count  Dtype  \n",
      "---  ------               --------------  -----  \n",
      " 0   Current Price        405 non-null    float64\n",
      " 1   Original Price       405 non-null    float64\n",
      " 2   Rating               405 non-null    float64\n",
      " 3   Number OF Ratings    405 non-null    float64\n",
      " 4   Battery Life (Days)  405 non-null    float64\n",
      " 5   Display Size         405 non-null    float64\n",
      " 6   Weight               405 non-null    float64\n",
      " 7   Discount Price       405 non-null    float64\n",
      "dtypes: float64(8)\n",
      "memory usage: 28.5 KB\n"
     ]
    }
   ],
   "source": [
    "\n",
    "df_cleaned[numerical].info()"
   ]
  },
  {
   "cell_type": "code",
   "execution_count": 243,
   "id": "af8761b2",
   "metadata": {},
   "outputs": [
    {
     "data": {
      "text/html": [
       "<div>\n",
       "<style scoped>\n",
       "    .dataframe tbody tr th:only-of-type {\n",
       "        vertical-align: middle;\n",
       "    }\n",
       "\n",
       "    .dataframe tbody tr th {\n",
       "        vertical-align: top;\n",
       "    }\n",
       "\n",
       "    .dataframe thead th {\n",
       "        text-align: right;\n",
       "    }\n",
       "</style>\n",
       "<table border=\"1\" class=\"dataframe\">\n",
       "  <thead>\n",
       "    <tr style=\"text-align: right;\">\n",
       "      <th></th>\n",
       "      <th>Current Price</th>\n",
       "      <th>Original Price</th>\n",
       "      <th>Rating</th>\n",
       "      <th>Number OF Ratings</th>\n",
       "      <th>Battery Life (Days)</th>\n",
       "      <th>Display Size</th>\n",
       "      <th>Weight</th>\n",
       "      <th>Discount Price</th>\n",
       "    </tr>\n",
       "  </thead>\n",
       "  <tbody>\n",
       "    <tr>\n",
       "      <th>count</th>\n",
       "      <td>405.00000</td>\n",
       "      <td>405.000000</td>\n",
       "      <td>405.000000</td>\n",
       "      <td>405.000000</td>\n",
       "      <td>405.000000</td>\n",
       "      <td>405.000000</td>\n",
       "      <td>405.000000</td>\n",
       "      <td>405.000000</td>\n",
       "    </tr>\n",
       "    <tr>\n",
       "      <th>mean</th>\n",
       "      <td>12090.34321</td>\n",
       "      <td>11845.782716</td>\n",
       "      <td>4.017037</td>\n",
       "      <td>10488.955556</td>\n",
       "      <td>14.659652</td>\n",
       "      <td>2.195556</td>\n",
       "      <td>43.238515</td>\n",
       "      <td>4189.822222</td>\n",
       "    </tr>\n",
       "    <tr>\n",
       "      <th>std</th>\n",
       "      <td>17456.44239</td>\n",
       "      <td>12242.545752</td>\n",
       "      <td>0.562157</td>\n",
       "      <td>39718.959882</td>\n",
       "      <td>7.342598</td>\n",
       "      <td>4.455937</td>\n",
       "      <td>15.791844</td>\n",
       "      <td>1994.097020</td>\n",
       "    </tr>\n",
       "    <tr>\n",
       "      <th>min</th>\n",
       "      <td>1199.00000</td>\n",
       "      <td>1669.000000</td>\n",
       "      <td>1.000000</td>\n",
       "      <td>1.000000</td>\n",
       "      <td>0.750000</td>\n",
       "      <td>0.100000</td>\n",
       "      <td>20.000000</td>\n",
       "      <td>-1330.000000</td>\n",
       "    </tr>\n",
       "    <tr>\n",
       "      <th>25%</th>\n",
       "      <td>2199.00000</td>\n",
       "      <td>5999.000000</td>\n",
       "      <td>3.800000</td>\n",
       "      <td>102.000000</td>\n",
       "      <td>8.000000</td>\n",
       "      <td>1.300000</td>\n",
       "      <td>27.500000</td>\n",
       "      <td>3000.000000</td>\n",
       "    </tr>\n",
       "    <tr>\n",
       "      <th>50%</th>\n",
       "      <td>3999.00000</td>\n",
       "      <td>7999.000000</td>\n",
       "      <td>4.100000</td>\n",
       "      <td>830.000000</td>\n",
       "      <td>17.500000</td>\n",
       "      <td>1.600000</td>\n",
       "      <td>43.681102</td>\n",
       "      <td>4001.000000</td>\n",
       "    </tr>\n",
       "    <tr>\n",
       "      <th>75%</th>\n",
       "      <td>16495.00000</td>\n",
       "      <td>9999.000000</td>\n",
       "      <td>4.300000</td>\n",
       "      <td>4694.000000</td>\n",
       "      <td>22.000000</td>\n",
       "      <td>1.800000</td>\n",
       "      <td>43.681102</td>\n",
       "      <td>5291.000000</td>\n",
       "    </tr>\n",
       "    <tr>\n",
       "      <th>max</th>\n",
       "      <td>139990.00000</td>\n",
       "      <td>93990.000000</td>\n",
       "      <td>5.000000</td>\n",
       "      <td>619130.000000</td>\n",
       "      <td>22.000000</td>\n",
       "      <td>45.000000</td>\n",
       "      <td>76.000000</td>\n",
       "      <td>10200.000000</td>\n",
       "    </tr>\n",
       "  </tbody>\n",
       "</table>\n",
       "</div>"
      ],
      "text/plain": [
       "       Current Price  Original Price      Rating  Number OF Ratings  \\\n",
       "count      405.00000      405.000000  405.000000         405.000000   \n",
       "mean     12090.34321    11845.782716    4.017037       10488.955556   \n",
       "std      17456.44239    12242.545752    0.562157       39718.959882   \n",
       "min       1199.00000     1669.000000    1.000000           1.000000   \n",
       "25%       2199.00000     5999.000000    3.800000         102.000000   \n",
       "50%       3999.00000     7999.000000    4.100000         830.000000   \n",
       "75%      16495.00000     9999.000000    4.300000        4694.000000   \n",
       "max     139990.00000    93990.000000    5.000000      619130.000000   \n",
       "\n",
       "       Battery Life (Days)  Display Size      Weight  Discount Price  \n",
       "count           405.000000    405.000000  405.000000      405.000000  \n",
       "mean             14.659652      2.195556   43.238515     4189.822222  \n",
       "std               7.342598      4.455937   15.791844     1994.097020  \n",
       "min               0.750000      0.100000   20.000000    -1330.000000  \n",
       "25%               8.000000      1.300000   27.500000     3000.000000  \n",
       "50%              17.500000      1.600000   43.681102     4001.000000  \n",
       "75%              22.000000      1.800000   43.681102     5291.000000  \n",
       "max              22.000000     45.000000   76.000000    10200.000000  "
      ]
     },
     "execution_count": 243,
     "metadata": {},
     "output_type": "execute_result"
    }
   ],
   "source": [
    "df_cleaned[numerical].describe()"
   ]
  },
  {
   "cell_type": "code",
   "execution_count": 246,
   "id": "e753757f",
   "metadata": {},
   "outputs": [
    {
     "data": {
      "image/png": "[encoded data removed]",
      "text/plain": [
       "<Figure size 1000x500 with 2 Axes>"
      ]
     },
     "metadata": {},
     "output_type": "display_data"
    }
   ],
   "source": [
    "import matplotlib.pyplot as plt\n",
    "\n",
    "plt.figure(figsize=(10, 5))\n",
    "\n",
    "# Boxplot before removing outliers\n",
    "plt.subplot(1, 2, 1)\n",
    "plt.boxplot(df['Discount Price'].dropna(), patch_artist=True,\n",
    "            boxprops=dict(facecolor='lightblue', color='blue'),\n",
    "            medianprops=dict(color='darkblue'),\n",
    "            whiskerprops=dict(color='blue'),\n",
    "            capprops=dict(color='blue'),\n",
    "            flierprops=dict(markerfacecolor='blue', marker='o', markersize=5))\n",
    "plt.title('Before Removing Outliers')\n",
    "plt.ylabel('Discount Price')\n",
    "\n",
    "# Boxplot after removing outliers\n",
    "plt.subplot(1, 2, 2)\n",
    "plt.boxplot(df_cleaned['Discount Price'].dropna(), patch_artist=True,\n",
    "            boxprops=dict(facecolor='lightblue', color='blue'),\n",
    "            medianprops=dict(color='darkblue'),\n",
    "            whiskerprops=dict(color='blue'),\n",
    "            capprops=dict(color='blue'),\n",
    "            flierprops=dict(markerfacecolor='blue', marker='o', markersize=5))\n",
    "plt.title('After Removing Outliers')\n",
    "plt.ylabel('Discount Price')\n",
    "\n",
    "plt.tight_layout()\n",
    "plt.show()\n"
   ]
  },
  {
   "cell_type": "code",
   "execution_count": 248,
   "id": "ad4bb980",
   "metadata": {},
   "outputs": [
    {
     "data": {
      "text/html": [
       "<div>\n",
       "<style scoped>\n",
       "    .dataframe tbody tr th:only-of-type {\n",
       "        vertical-align: middle;\n",
       "    }\n",
       "\n",
       "    .dataframe tbody tr th {\n",
       "        vertical-align: top;\n",
       "    }\n",
       "\n",
       "    .dataframe thead th {\n",
       "        text-align: right;\n",
       "    }\n",
       "</style>\n",
       "<table border=\"1\" class=\"dataframe\">\n",
       "  <thead>\n",
       "    <tr style=\"text-align: right;\">\n",
       "      <th></th>\n",
       "      <th>Current Price</th>\n",
       "      <th>Original Price</th>\n",
       "      <th>Rating</th>\n",
       "      <th>Number OF Ratings</th>\n",
       "      <th>Battery Life (Days)</th>\n",
       "      <th>Display Size</th>\n",
       "      <th>Weight</th>\n",
       "      <th>Discount Price</th>\n",
       "    </tr>\n",
       "  </thead>\n",
       "  <tbody>\n",
       "    <tr>\n",
       "      <th>Current Price</th>\n",
       "      <td>1.000000</td>\n",
       "      <td>0.606116</td>\n",
       "      <td>0.381907</td>\n",
       "      <td>-0.121835</td>\n",
       "      <td>0.011153</td>\n",
       "      <td>-0.000576</td>\n",
       "      <td>-0.197512</td>\n",
       "      <td>-0.045103</td>\n",
       "    </tr>\n",
       "    <tr>\n",
       "      <th>Original Price</th>\n",
       "      <td>0.606116</td>\n",
       "      <td>1.000000</td>\n",
       "      <td>0.217907</td>\n",
       "      <td>-0.097547</td>\n",
       "      <td>-0.113293</td>\n",
       "      <td>0.023507</td>\n",
       "      <td>-0.133562</td>\n",
       "      <td>0.132954</td>\n",
       "    </tr>\n",
       "    <tr>\n",
       "      <th>Rating</th>\n",
       "      <td>0.381907</td>\n",
       "      <td>0.217907</td>\n",
       "      <td>1.000000</td>\n",
       "      <td>0.061105</td>\n",
       "      <td>-0.071394</td>\n",
       "      <td>0.062521</td>\n",
       "      <td>-0.209717</td>\n",
       "      <td>-0.054428</td>\n",
       "    </tr>\n",
       "    <tr>\n",
       "      <th>Number OF Ratings</th>\n",
       "      <td>-0.121835</td>\n",
       "      <td>-0.097547</td>\n",
       "      <td>0.061105</td>\n",
       "      <td>1.000000</td>\n",
       "      <td>0.036082</td>\n",
       "      <td>-0.034527</td>\n",
       "      <td>0.031016</td>\n",
       "      <td>-0.013652</td>\n",
       "    </tr>\n",
       "    <tr>\n",
       "      <th>Battery Life (Days)</th>\n",
       "      <td>0.011153</td>\n",
       "      <td>-0.113293</td>\n",
       "      <td>-0.071394</td>\n",
       "      <td>0.036082</td>\n",
       "      <td>1.000000</td>\n",
       "      <td>0.019487</td>\n",
       "      <td>-0.101403</td>\n",
       "      <td>-0.148209</td>\n",
       "    </tr>\n",
       "    <tr>\n",
       "      <th>Display Size</th>\n",
       "      <td>-0.000576</td>\n",
       "      <td>0.023507</td>\n",
       "      <td>0.062521</td>\n",
       "      <td>-0.034527</td>\n",
       "      <td>0.019487</td>\n",
       "      <td>1.000000</td>\n",
       "      <td>0.018378</td>\n",
       "      <td>-0.037189</td>\n",
       "    </tr>\n",
       "    <tr>\n",
       "      <th>Weight</th>\n",
       "      <td>-0.197512</td>\n",
       "      <td>-0.133562</td>\n",
       "      <td>-0.209717</td>\n",
       "      <td>0.031016</td>\n",
       "      <td>-0.101403</td>\n",
       "      <td>0.018378</td>\n",
       "      <td>1.000000</td>\n",
       "      <td>0.054222</td>\n",
       "    </tr>\n",
       "    <tr>\n",
       "      <th>Discount Price</th>\n",
       "      <td>-0.045103</td>\n",
       "      <td>0.132954</td>\n",
       "      <td>-0.054428</td>\n",
       "      <td>-0.013652</td>\n",
       "      <td>-0.148209</td>\n",
       "      <td>-0.037189</td>\n",
       "      <td>0.054222</td>\n",
       "      <td>1.000000</td>\n",
       "    </tr>\n",
       "  </tbody>\n",
       "</table>\n",
       "</div>"
      ],
      "text/plain": [
       "                     Current Price  Original Price    Rating  \\\n",
       "Current Price             1.000000        0.606116  0.381907   \n",
       "Original Price            0.606116        1.000000  0.217907   \n",
       "Rating                    0.381907        0.217907  1.000000   \n",
       "Number OF Ratings        -0.121835       -0.097547  0.061105   \n",
       "Battery Life (Days)       0.011153       -0.113293 -0.071394   \n",
       "Display Size             -0.000576        0.023507  0.062521   \n",
       "Weight                   -0.197512       -0.133562 -0.209717   \n",
       "Discount Price           -0.045103        0.132954 -0.054428   \n",
       "\n",
       "                     Number OF Ratings  Battery Life (Days)  Display Size  \\\n",
       "Current Price                -0.121835             0.011153     -0.000576   \n",
       "Original Price               -0.097547            -0.113293      0.023507   \n",
       "Rating                        0.061105            -0.071394      0.062521   \n",
       "Number OF Ratings             1.000000             0.036082     -0.034527   \n",
       "Battery Life (Days)           0.036082             1.000000      0.019487   \n",
       "Display Size                 -0.034527             0.019487      1.000000   \n",
       "Weight                        0.031016            -0.101403      0.018378   \n",
       "Discount Price               -0.013652            -0.148209     -0.037189   \n",
       "\n",
       "                       Weight  Discount Price  \n",
       "Current Price       -0.197512       -0.045103  \n",
       "Original Price      -0.133562        0.132954  \n",
       "Rating              -0.209717       -0.054428  \n",
       "Number OF Ratings    0.031016       -0.013652  \n",
       "Battery Life (Days) -0.101403       -0.148209  \n",
       "Display Size         0.018378       -0.037189  \n",
       "Weight               1.000000        0.054222  \n",
       "Discount Price       0.054222        1.000000  "
      ]
     },
     "execution_count": 248,
     "metadata": {},
     "output_type": "execute_result"
    }
   ],
   "source": [
    "\n",
    "\n",
    "df_cleaned[numerical].corr()"
   ]
  },
  {
   "cell_type": "code",
   "execution_count": 249,
   "id": "f8b22c3b",
   "metadata": {},
   "outputs": [
    {
     "data": {
      "text/plain": [
       "Current Price           2.880651\n",
       "Original Price          3.434366\n",
       "Rating                 -1.515544\n",
       "Number OF Ratings      10.479554\n",
       "Battery Life (Days)    -0.313537\n",
       "Display Size            6.765819\n",
       "Weight                  0.765048\n",
       "Discount Price          0.564948\n",
       "dtype: float64"
      ]
     },
     "execution_count": 249,
     "metadata": {},
     "output_type": "execute_result"
    }
   ],
   "source": [
    "df_cleaned[numerical].skew()"
   ]
  },
  {
   "cell_type": "code",
   "execution_count": null,
   "id": "5a3a15b4",
   "metadata": {},
   "outputs": [],
   "source": []
  }
 ],
 "metadata": {
  "kernelspec": {
   "display_name": "Python 3",
   "language": "python",
   "name": "python3"
  },
  "language_info": {
   "codemirror_mode": {
    "name": "ipython",
    "version": 3
   },
   "file_extension": ".py",
   "mimetype": "text/x-python",
   "name": "python",
   "nbconvert_exporter": "python",
   "pygments_lexer": "ipython3",
   "version": "3.12.5"
  }
 },
 "nbformat": 4,
 "nbformat_minor": 5
}
